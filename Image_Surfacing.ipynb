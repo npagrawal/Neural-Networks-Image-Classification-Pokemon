{
 "cells": [
  {
   "cell_type": "code",
   "execution_count": 8,
   "id": "3c467fb7",
   "metadata": {},
   "outputs": [],
   "source": [
    "from bs4 import BeautifulSoup as bs\n",
    "from bs4 import *\n",
    "import requests\n",
    "import os"
   ]
  },
  {
   "cell_type": "code",
   "execution_count": 2,
   "id": "a58855e5",
   "metadata": {},
   "outputs": [],
   "source": [
    "url = \"https://www.pokemon.com/us/pokedex\""
   ]
  },
  {
   "cell_type": "code",
   "execution_count": 4,
   "id": "351dcdb5",
   "metadata": {},
   "outputs": [],
   "source": [
    "os.mkdir(\"pokedex\")"
   ]
  },
  {
   "cell_type": "code",
   "execution_count": 9,
   "id": "cd91e3e9",
   "metadata": {},
   "outputs": [],
   "source": [
    "soup = bs(requests.get(url).content, \"html.parser\")"
   ]
  },
  {
   "cell_type": "code",
   "execution_count": 11,
   "id": "68d0a092",
   "metadata": {},
   "outputs": [],
   "source": [
    "images = soup.findAll('img')"
   ]
  },
  {
   "cell_type": "code",
   "execution_count": 12,
   "id": "6b3e2862",
   "metadata": {},
   "outputs": [
    {
     "data": {
      "text/plain": [
       "[<img alt=\"View Profile\" class=\"avatar-icon avatar-icon-mobile\" src=\"https://assets.pokemon.com/static2/_ui/img/chrome/profile-navigation/profile-nav-avatar.png\"/>,\n",
       " <img alt=\"Log In / Sign Up\" class=\"avatar-icon avatar-icon-mobile\" src=\"https://assets.pokemon.com/static2/_ui/img/chrome/profile-navigation/profile-nav-signup.png\"/>,\n",
       " <img alt=\"Log In\" class=\"avatar-icon\" src=\"https://assets.pokemon.com/static2/_ui/img/chrome/profile-navigation/profile-nav-signup.png\"/>,\n",
       " <img alt=\"Profile\" class=\"avatar-icon\" src=\"https://assets.pokemon.com/static2/_ui/img/chrome/profile-navigation/profile-nav-avatar.png\"/>,\n",
       " <img alt=\"Profile\" class=\"organizer-icon default\" src=\"https://assets.pokemon.com/static2/_ui/img/chrome/profile-navigation/profile-nav-builder.png\"/>,\n",
       " <img alt=\"Profile\" class=\"organizer-icon ie9-hover\" src=\"https://assets.pokemon.com/static2/_ui/img/chrome/profile-navigation/profile-nav-builder-ie9-hover.png\"/>,\n",
       " <img alt=\"Get Egg-cellent Rewards in Tera Raid Battles\" class=\"breakpoint rating-image\" data-maxwidth720px=\"/static-assets/content-assets/cms2/img/video-games/_tiles/pokemon-scarlet-violet/events/2023/03232023/scarlet-violet-169-en.png\" data-minwidth721px=\"/static-assets/content-assets/cms2/img/video-games/_tiles/pokemon-scarlet-violet/events/2023/03232023/scarlet-violet-169-en.png\" src=\"/static-assets/content-assets/cms2/img/video-games/_tiles/pokemon-scarlet-violet/events/2023/03232023/scarlet-violet-169-en.png\"/>,\n",
       " <img alt=\"All Hands Are on Deck for Pokémon GO’s Let’s GO Event\" class=\"breakpoint rating-image\" data-maxwidth720px=\"/static-assets/content-assets/cms2/img/video-games/_tiles/pokemon-go/2023/03212023/pokemon-go-169.png\" data-minwidth721px=\"/static-assets/content-assets/cms2/img/video-games/_tiles/pokemon-go/2023/03212023/pokemon-go-169.png\" src=\"/static-assets/content-assets/cms2/img/video-games/_tiles/pokemon-go/2023/03212023/pokemon-go-169.png\"/>,\n",
       " <img alt=\"Ball Guy &amp; Amoonguss Bring Poké Ball Fever to Pokémon Masters EX\" class=\"breakpoint rating-image\" data-maxwidth720px=\"/static-assets/content-assets/cms2/img/video-games/_tiles/pokemon-masters/2023/03212023/pokemon-masters-ex-169.png\" data-minwidth721px=\"/static-assets/content-assets/cms2/img/video-games/_tiles/pokemon-masters/2023/03212023/pokemon-masters-ex-169.png\" src=\"/static-assets/content-assets/cms2/img/video-games/_tiles/pokemon-masters/2023/03212023/pokemon-masters-ex-169.png\"/>,\n",
       " <img alt=\"\" class=\"hidden-mobile\" src=\"https://assets.pokemon.com/static2/_ui/img/chrome/external_link_bumper.png\"/>,\n",
       " <img alt=\"\" class=\"hidden-mobile\" src=\"https://assets.pokemon.com/static2/_ui/img/chrome/external_link_bumper.png\"/>]"
      ]
     },
     "execution_count": 12,
     "metadata": {},
     "output_type": "execute_result"
    }
   ],
   "source": [
    "images"
   ]
  },
  {
   "cell_type": "code",
   "execution_count": null,
   "id": "05e7ff26",
   "metadata": {},
   "outputs": [],
   "source": []
  },
  {
   "cell_type": "code",
   "execution_count": null,
   "id": "7df392aa",
   "metadata": {},
   "outputs": [],
   "source": []
  },
  {
   "cell_type": "code",
   "execution_count": null,
   "id": "61f487cb",
   "metadata": {},
   "outputs": [],
   "source": [
    "urls = []\n",
    "for img in tqdm(soup.find_all(\"img\"), \"Extracting images\"):\n",
    "    img_url = img.attrs.get(\"src\")\n",
    "    if not img_url:\n",
    "        continue"
   ]
  },
  {
   "cell_type": "code",
   "execution_count": null,
   "id": "caf022d7",
   "metadata": {},
   "outputs": [],
   "source": [
    "images = soup.findAll('img')\n",
    "os.mkdir(\"pokedex\")\n",
    "r = requests.get(url).content\n",
    "    "
   ]
  },
  {
   "cell_type": "code",
   "execution_count": 14,
   "id": "0eaa607a",
   "metadata": {},
   "outputs": [],
   "source": [
    "url_a = \"https://www.pokemon.com/us/pokedex/pikachu\""
   ]
  },
  {
   "cell_type": "code",
   "execution_count": 15,
   "id": "a6627247",
   "metadata": {},
   "outputs": [],
   "source": [
    "soup = bs(requests.get(url_a).content, \"html.parser\")"
   ]
  },
  {
   "cell_type": "code",
   "execution_count": 16,
   "id": "3883cdd3",
   "metadata": {},
   "outputs": [],
   "source": [
    "images = soup.findAll('img')"
   ]
  },
  {
   "cell_type": "code",
   "execution_count": 25,
   "id": "9396ee89",
   "metadata": {},
   "outputs": [
    {
     "data": {
      "text/plain": [
       "<img alt=\"Pikachu\" class=\"active\" src=\"https://assets.pokemon.com/assets/cms2/img/pokedex/full/025.png\"/>"
      ]
     },
     "execution_count": 25,
     "metadata": {},
     "output_type": "execute_result"
    }
   ],
   "source": [
    "images[6]"
   ]
  },
  {
   "cell_type": "code",
   "execution_count": null,
   "id": "982309e9",
   "metadata": {},
   "outputs": [],
   "source": [
    "for item in images:\n",
    "    "
   ]
  },
  {
   "cell_type": "code",
   "execution_count": 26,
   "id": "2aa7b59f",
   "metadata": {},
   "outputs": [
    {
     "data": {
      "text/plain": [
       "<img alt=\"Dratini\" class=\"active\" src=\"https://assets.pokemon.com/assets/cms2/img/pokedex/full/147.png\"/>"
      ]
     },
     "execution_count": 26,
     "metadata": {},
     "output_type": "execute_result"
    }
   ],
   "source": [
    "url_b = \"https://www.pokemon.com/us/pokedex/dratini\"\n",
    "soup_b = bs(requests.get(url_b).content, \"html.parser\")\n",
    "images_b = soup_b.findAll('img')\n",
    "images_b[6]"
   ]
  },
  {
   "cell_type": "code",
   "execution_count": null,
   "id": "69db131b",
   "metadata": {},
   "outputs": [],
   "source": [
    "pokemon_list = "
   ]
  },
  {
   "cell_type": "code",
   "execution_count": null,
   "id": "38d6fa36",
   "metadata": {},
   "outputs": [],
   "source": [
    "url_list = []"
   ]
  },
  {
   "cell_type": "code",
   "execution_count": null,
   "id": "e333accf",
   "metadata": {},
   "outputs": [],
   "source": [
    "wiki = \"https://en.wikipedia.org/wiki/List_of_Pok%C3%A9mon\"\n",
    "soup_wiki = bs(response.text, 'html.parser')\n",
    "indiatable=soup.find('table',{'class':\"wikitable\"})"
   ]
  }
 ],
 "metadata": {
  "kernelspec": {
   "display_name": "middle-earth",
   "language": "python",
   "name": "middle-earth"
  },
  "language_info": {
   "codemirror_mode": {
    "name": "ipython",
    "version": 3
   },
   "file_extension": ".py",
   "mimetype": "text/x-python",
   "name": "python",
   "nbconvert_exporter": "python",
   "pygments_lexer": "ipython3",
   "version": "3.8.16"
  }
 },
 "nbformat": 4,
 "nbformat_minor": 5
}
