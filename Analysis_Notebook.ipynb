{
 "cells": [
  {
   "cell_type": "markdown",
   "id": "fcc76907",
   "metadata": {},
   "source": [
    "## Add Imports"
   ]
  },
  {
   "cell_type": "code",
   "execution_count": 1,
   "id": "1fad4c5d",
   "metadata": {},
   "outputs": [],
   "source": [
    "import numpy as np\n",
    "import pandas as pd\n",
    "import matplotlib.pyplot as plt\n",
    "import seaborn as sns\n",
    "import tensorflow as tf\n",
    "from tensorflow.keras.preprocessing.image import ImageDataGenerator\n",
    "from tensorflow import keras\n",
    "from keras.preprocessing import image\n",
    "\n",
    "import splitfolders\n",
    "import os\n",
    "import shutil\n",
    "from sklearn.preprocessing import MultiLabelBinarizer\n",
    "from sklearn.metrics import ConfusionMatrixDisplay, confusion_matrix\n",
    "from tensorflow.keras.optimizers import SGD, Adam\n",
    "from tensorflow.keras.regularizers import l2\n",
    "from tensorflow.keras.utils import to_categorical\n",
    "from tensorflow.keras.models import Sequential\n",
    "from tensorflow.keras.layers import Dense, Flatten, Conv2D, MaxPooling2D, Dropout \n",
    "from tensorflow.keras.applications import VGG16\n",
    "from tensorflow.keras.callbacks import EarlyStopping\n",
    "\n",
    "import warnings \n",
    "warnings.filterwarnings('ignore')"
   ]
  },
  {
   "cell_type": "markdown",
   "id": "7277fed6",
   "metadata": {},
   "source": [
    "## Read In Data"
   ]
  },
  {
   "cell_type": "code",
   "execution_count": null,
   "id": "d2d2fccf",
   "metadata": {},
   "outputs": [
    {
     "data": {
      "text/html": [
       "<div>\n",
       "<style scoped>\n",
       "    .dataframe tbody tr th:only-of-type {\n",
       "        vertical-align: middle;\n",
       "    }\n",
       "\n",
       "    .dataframe tbody tr th {\n",
       "        vertical-align: top;\n",
       "    }\n",
       "\n",
       "    .dataframe thead th {\n",
       "        text-align: right;\n",
       "    }\n",
       "</style>\n",
       "<table border=\"1\" class=\"dataframe\">\n",
       "  <thead>\n",
       "    <tr style=\"text-align: right;\">\n",
       "      <th></th>\n",
       "      <th>dex_no</th>\n",
       "      <th>name</th>\n",
       "      <th>type1</th>\n",
       "      <th>image_name</th>\n",
       "      <th>image_address</th>\n",
       "    </tr>\n",
       "  </thead>\n",
       "  <tbody>\n",
       "    <tr>\n",
       "      <th>0</th>\n",
       "      <td>1.0</td>\n",
       "      <td>Bulbasaur</td>\n",
       "      <td>Grass</td>\n",
       "      <td>pokedex_bulbasaur.jpg</td>\n",
       "      <td>https://img.pokemondb.net/sprites/home/normal/...</td>\n",
       "    </tr>\n",
       "    <tr>\n",
       "      <th>1</th>\n",
       "      <td>2.0</td>\n",
       "      <td>Ivysaur</td>\n",
       "      <td>Grass</td>\n",
       "      <td>pokedex_ivysaur.jpg</td>\n",
       "      <td>https://img.pokemondb.net/sprites/home/normal/...</td>\n",
       "    </tr>\n",
       "    <tr>\n",
       "      <th>2</th>\n",
       "      <td>3.0</td>\n",
       "      <td>Venusaur</td>\n",
       "      <td>Grass</td>\n",
       "      <td>pokedex_venusaur.jpg</td>\n",
       "      <td>https://img.pokemondb.net/sprites/home/normal/...</td>\n",
       "    </tr>\n",
       "    <tr>\n",
       "      <th>3</th>\n",
       "      <td>4.0</td>\n",
       "      <td>Charmander</td>\n",
       "      <td>Fire</td>\n",
       "      <td>pokedex_charmander.jpg</td>\n",
       "      <td>https://img.pokemondb.net/sprites/home/normal/...</td>\n",
       "    </tr>\n",
       "    <tr>\n",
       "      <th>4</th>\n",
       "      <td>5.0</td>\n",
       "      <td>Charmeleon</td>\n",
       "      <td>Fire</td>\n",
       "      <td>pokedex_charmeleon.jpg</td>\n",
       "      <td>https://img.pokemondb.net/sprites/home/normal/...</td>\n",
       "    </tr>\n",
       "    <tr>\n",
       "      <th>...</th>\n",
       "      <td>...</td>\n",
       "      <td>...</td>\n",
       "      <td>...</td>\n",
       "      <td>...</td>\n",
       "      <td>...</td>\n",
       "    </tr>\n",
       "    <tr>\n",
       "      <th>1150</th>\n",
       "      <td>NaN</td>\n",
       "      <td>Iron_Valiant</td>\n",
       "      <td>Fairy</td>\n",
       "      <td>pokedex2_Iron_Valiant.png</td>\n",
       "      <td>archives.bulbagarden.net/media/upload/thumb/2/...</td>\n",
       "    </tr>\n",
       "    <tr>\n",
       "      <th>1151</th>\n",
       "      <td>NaN</td>\n",
       "      <td>Koraidon</td>\n",
       "      <td>Fighting</td>\n",
       "      <td>pokedex2_Koraidon.png</td>\n",
       "      <td>archives.bulbagarden.net/media/upload/thumb/a/...</td>\n",
       "    </tr>\n",
       "    <tr>\n",
       "      <th>1152</th>\n",
       "      <td>NaN</td>\n",
       "      <td>Miraidon</td>\n",
       "      <td>Electric</td>\n",
       "      <td>pokedex2_Miraidon.png</td>\n",
       "      <td>archives.bulbagarden.net/media/upload/thumb/1/...</td>\n",
       "    </tr>\n",
       "    <tr>\n",
       "      <th>1153</th>\n",
       "      <td>NaN</td>\n",
       "      <td>Walking_Wake</td>\n",
       "      <td>Water</td>\n",
       "      <td>pokedex2_Walking_Wake.png</td>\n",
       "      <td>archives.bulbagarden.net/media/upload/thumb/b/...</td>\n",
       "    </tr>\n",
       "    <tr>\n",
       "      <th>1154</th>\n",
       "      <td>NaN</td>\n",
       "      <td>Iron_Leaves</td>\n",
       "      <td>Grass</td>\n",
       "      <td>pokedex2_Iron_Leaves.png</td>\n",
       "      <td>archives.bulbagarden.net/media/upload/thumb/8/...</td>\n",
       "    </tr>\n",
       "  </tbody>\n",
       "</table>\n",
       "<p>2165 rows × 5 columns</p>\n",
       "</div>"
      ],
      "text/plain": [
       "      dex_no          name     type1                 image_name  \\\n",
       "0        1.0     Bulbasaur     Grass      pokedex_bulbasaur.jpg   \n",
       "1        2.0       Ivysaur     Grass        pokedex_ivysaur.jpg   \n",
       "2        3.0      Venusaur     Grass       pokedex_venusaur.jpg   \n",
       "3        4.0    Charmander      Fire     pokedex_charmander.jpg   \n",
       "4        5.0    Charmeleon      Fire     pokedex_charmeleon.jpg   \n",
       "...      ...           ...       ...                        ...   \n",
       "1150     NaN  Iron_Valiant     Fairy  pokedex2_Iron_Valiant.png   \n",
       "1151     NaN      Koraidon  Fighting      pokedex2_Koraidon.png   \n",
       "1152     NaN      Miraidon  Electric      pokedex2_Miraidon.png   \n",
       "1153     NaN  Walking_Wake     Water  pokedex2_Walking_Wake.png   \n",
       "1154     NaN   Iron_Leaves     Grass   pokedex2_Iron_Leaves.png   \n",
       "\n",
       "                                          image_address  \n",
       "0     https://img.pokemondb.net/sprites/home/normal/...  \n",
       "1     https://img.pokemondb.net/sprites/home/normal/...  \n",
       "2     https://img.pokemondb.net/sprites/home/normal/...  \n",
       "3     https://img.pokemondb.net/sprites/home/normal/...  \n",
       "4     https://img.pokemondb.net/sprites/home/normal/...  \n",
       "...                                                 ...  \n",
       "1150  archives.bulbagarden.net/media/upload/thumb/2/...  \n",
       "1151  archives.bulbagarden.net/media/upload/thumb/a/...  \n",
       "1152  archives.bulbagarden.net/media/upload/thumb/1/...  \n",
       "1153  archives.bulbagarden.net/media/upload/thumb/b/...  \n",
       "1154  archives.bulbagarden.net/media/upload/thumb/8/...  \n",
       "\n",
       "[2165 rows x 5 columns]"
      ]
     },
     "execution_count": 2,
     "metadata": {},
     "output_type": "execute_result"
    }
   ],
   "source": [
    "# pokedex\n",
    "df1 = pd.read_csv(\"data/pokedex.csv\", index_col=0)\n",
    "df1[\"image_address\"] = df1[\"image\"]\n",
    "df1 = df1.drop(columns = \"image\")\n",
    "\n",
    "# pokedex4\n",
    "df2 = pd.read_csv(\"data/pokedex2.csv\", index_col=0)\n",
    "\n",
    "# concat dataframes\n",
    "df = pd.concat([df1, df2])\n",
    "df = df.drop(columns = \"type2\")\n",
    "df"
   ]
  },
  {
   "cell_type": "code",
   "execution_count": null,
   "id": "4dd894c3",
   "metadata": {},
   "outputs": [],
   "source": [
    "# make new dataframe out of all the images listed in the images folder\n",
    "df_imagesonly = pd.DataFrame(os.listdir(\"data/images\"))\n",
    "df_imagesonly.columns = [\"image_name\"]\n",
    "df_imagesonly[\"name\"] = df_imagesonly[\"image_name\"]\n",
    "df_imagesonly[\"name\"] = df_imagesonly[\"name\"].str.replace(\".png\", \"\").str.replace(\".jpg\", \"\").str.replace(\".svg\", \"\")\n",
    "df_imagesonly[\"name\"] = df_imagesonly[\"name\"].str.replace(\"\\d+\", \"\")\n",
    "df_imagesonly[\"name\"] = df_imagesonly[\"name\"].str.capitalize()\n",
    "df_imagesonly[\"name\"] = df_imagesonly[\"name\"].str.split(\"_\").apply(lambda x: x[1])\n",
    "df_imagesonly[\"name\"] = df_imagesonly[\"name\"].str.title()"
   ]
  },
  {
   "cell_type": "code",
   "execution_count": null,
   "id": "66ba0cc5",
   "metadata": {},
   "outputs": [
    {
     "data": {
      "text/html": [
       "<div>\n",
       "<style scoped>\n",
       "    .dataframe tbody tr th:only-of-type {\n",
       "        vertical-align: middle;\n",
       "    }\n",
       "\n",
       "    .dataframe tbody tr th {\n",
       "        vertical-align: top;\n",
       "    }\n",
       "\n",
       "    .dataframe thead th {\n",
       "        text-align: right;\n",
       "    }\n",
       "</style>\n",
       "<table border=\"1\" class=\"dataframe\">\n",
       "  <thead>\n",
       "    <tr style=\"text-align: right;\">\n",
       "      <th></th>\n",
       "      <th>image_name</th>\n",
       "      <th>name</th>\n",
       "      <th>type1</th>\n",
       "    </tr>\n",
       "  </thead>\n",
       "  <tbody>\n",
       "    <tr>\n",
       "      <th>0</th>\n",
       "      <td>dataset_Dodrio33.jpg</td>\n",
       "      <td>Dodrio</td>\n",
       "      <td>Normal</td>\n",
       "    </tr>\n",
       "    <tr>\n",
       "      <th>1</th>\n",
       "      <td>dataset_Dodrio33.jpg</td>\n",
       "      <td>Dodrio</td>\n",
       "      <td>Normal</td>\n",
       "    </tr>\n",
       "    <tr>\n",
       "      <th>2</th>\n",
       "      <td>dataset_Dodrio27.jpg</td>\n",
       "      <td>Dodrio</td>\n",
       "      <td>Normal</td>\n",
       "    </tr>\n",
       "    <tr>\n",
       "      <th>3</th>\n",
       "      <td>dataset_Dodrio27.jpg</td>\n",
       "      <td>Dodrio</td>\n",
       "      <td>Normal</td>\n",
       "    </tr>\n",
       "    <tr>\n",
       "      <th>4</th>\n",
       "      <td>dataset_Dodrio26.jpg</td>\n",
       "      <td>Dodrio</td>\n",
       "      <td>Normal</td>\n",
       "    </tr>\n",
       "    <tr>\n",
       "      <th>...</th>\n",
       "      <td>...</td>\n",
       "      <td>...</td>\n",
       "      <td>...</td>\n",
       "    </tr>\n",
       "    <tr>\n",
       "      <th>19664</th>\n",
       "      <td>pokedex2_Ninetales-Alola.png</td>\n",
       "      <td>Ninetales-Alola</td>\n",
       "      <td>Ice</td>\n",
       "    </tr>\n",
       "    <tr>\n",
       "      <th>19665</th>\n",
       "      <td>pokedex_burmy.jpg</td>\n",
       "      <td>Burmy</td>\n",
       "      <td>Bug</td>\n",
       "    </tr>\n",
       "    <tr>\n",
       "      <th>19666</th>\n",
       "      <td>pokedex2_Raichu-Alola.png</td>\n",
       "      <td>Raichu-Alola</td>\n",
       "      <td>Electric</td>\n",
       "    </tr>\n",
       "    <tr>\n",
       "      <th>19667</th>\n",
       "      <td>pokedex2_Eiscue-Noice.png</td>\n",
       "      <td>Eiscue-Noice</td>\n",
       "      <td>Ice</td>\n",
       "    </tr>\n",
       "    <tr>\n",
       "      <th>19668</th>\n",
       "      <td>pokedex2_Sandshrew-Alola.png</td>\n",
       "      <td>Sandshrew-Alola</td>\n",
       "      <td>Ice</td>\n",
       "    </tr>\n",
       "  </tbody>\n",
       "</table>\n",
       "<p>19669 rows × 3 columns</p>\n",
       "</div>"
      ],
      "text/plain": [
       "                         image_name             name     type1\n",
       "0              dataset_Dodrio33.jpg           Dodrio    Normal\n",
       "1              dataset_Dodrio33.jpg           Dodrio    Normal\n",
       "2              dataset_Dodrio27.jpg           Dodrio    Normal\n",
       "3              dataset_Dodrio27.jpg           Dodrio    Normal\n",
       "4              dataset_Dodrio26.jpg           Dodrio    Normal\n",
       "...                             ...              ...       ...\n",
       "19664  pokedex2_Ninetales-Alola.png  Ninetales-Alola       Ice\n",
       "19665             pokedex_burmy.jpg            Burmy       Bug\n",
       "19666     pokedex2_Raichu-Alola.png     Raichu-Alola  Electric\n",
       "19667     pokedex2_Eiscue-Noice.png     Eiscue-Noice       Ice\n",
       "19668  pokedex2_Sandshrew-Alola.png  Sandshrew-Alola       Ice\n",
       "\n",
       "[19669 rows x 3 columns]"
      ]
     },
     "execution_count": 4,
     "metadata": {},
     "output_type": "execute_result"
    }
   ],
   "source": [
    "# create new dataframe for just names and types\n",
    "names_and_types = df[[\"name\", \"type1\"]]\n",
    "\n",
    "# combine with df_imagesonly\n",
    "images_types = df_imagesonly.merge(names_and_types)\n",
    "images_types"
   ]
  },
  {
   "cell_type": "markdown",
   "id": "296ed753",
   "metadata": {},
   "source": [
    "## EDA\n",
    "\n",
    "We have about 2000 images from our scraped collection and almost 8000 from our other datasets. The majority of the images are for Generation 1 and the original 150 Pokémon, thanks to the additional datasets. The rest include two images each for Generations 1-9, which includes over 1000 Pokémon. This dataset includes regional variant Pokémon for Alola and Galar.\n",
    "\n",
    "There is a pretty large range in the amount of images are in the dataset. From over 500 to only 1. Let's look at the most common Pokemon."
   ]
  },
  {
   "cell_type": "code",
   "execution_count": null,
   "id": "c0857fd0",
   "metadata": {},
   "outputs": [
    {
     "data": {
      "image/png": "[encoded data removed]",
      "text/plain": [
       "<Figure size 640x480 with 1 Axes>"
      ]
     },
     "metadata": {},
     "output_type": "display_data"
    }
   ],
   "source": [
    "top_pokemon = dict(images_types[\"name\"].value_counts().head(10))\n",
    "plt.bar(top_pokemon.keys(), top_pokemon.values(), color='g')\n",
    "plt.xticks(rotation = 45);"
   ]
  },
  {
   "cell_type": "code",
   "execution_count": null,
   "id": "d6bc99ee",
   "metadata": {},
   "outputs": [
    {
     "data": {
      "text/plain": [
       "Basculin-Red       1\n",
       "Goodra-Hisui       1\n",
       "Aegislash          1\n",
       "Indeedee           1\n",
       "Rotom-Fan          1\n",
       "Zacian-Hero        1\n",
       "Cherrim-Sunny      1\n",
       "Morpeko            1\n",
       "Kyurem-White       1\n",
       "Sandshrew-Alola    1\n",
       "Name: name, dtype: int64"
      ]
     },
     "execution_count": 6,
     "metadata": {},
     "output_type": "execute_result"
    }
   ],
   "source": [
    "images_types[\"name\"].value_counts().tail(10)"
   ]
  },
  {
   "cell_type": "markdown",
   "id": "b5c45c5a",
   "metadata": {},
   "source": [
    "We have more photos of Charmander, Mewtwo, Pikachu, Bulbasaur, and Squirtle than the rest and some have only one image each.\n",
    "\n",
    "The second thing we'll want to do is understand which types are represented in amongst our images and how many of each kind are there."
   ]
  },
  {
   "cell_type": "code",
   "execution_count": null,
   "id": "ef35ce3d",
   "metadata": {},
   "outputs": [
    {
     "data": {
      "image/png": "[encoded data removed]",
      "text/plain": [
       "<Figure size 640x480 with 1 Axes>"
      ]
     },
     "metadata": {},
     "output_type": "display_data"
    }
   ],
   "source": [
    "images_types.type1.value_counts().plot(kind='bar');"
   ]
  },
  {
   "cell_type": "markdown",
   "id": "9118831c",
   "metadata": {},
   "source": [
    "The vast majority of the Pokémon seem to be Water types, followed by Normal and Grass. This might skew our data, though intuitively it's more likely that the model misclassifies Bug and Grass for each other as they often are the same shape and color.\n",
    "\n",
    "Ghost, Dragon, Ice, Fairy, Dark, Steel, and Flying are the least populated types. But that could be because they're often the secondary types for Pokémon, which we're not including in modelling to make it simpler. We'll focus on the 10 most populated types."
   ]
  },
  {
   "cell_type": "code",
   "execution_count": null,
   "id": "4d098380",
   "metadata": {},
   "outputs": [
    {
     "data": {
      "text/html": [
       "<div>\n",
       "<style scoped>\n",
       "    .dataframe tbody tr th:only-of-type {\n",
       "        vertical-align: middle;\n",
       "    }\n",
       "\n",
       "    .dataframe tbody tr th {\n",
       "        vertical-align: top;\n",
       "    }\n",
       "\n",
       "    .dataframe thead th {\n",
       "        text-align: right;\n",
       "    }\n",
       "</style>\n",
       "<table border=\"1\" class=\"dataframe\">\n",
       "  <thead>\n",
       "    <tr style=\"text-align: right;\">\n",
       "      <th></th>\n",
       "      <th>image_name</th>\n",
       "      <th>name</th>\n",
       "      <th>type1</th>\n",
       "    </tr>\n",
       "  </thead>\n",
       "  <tbody>\n",
       "    <tr>\n",
       "      <th>0</th>\n",
       "      <td>dataset_Dodrio33.jpg</td>\n",
       "      <td>Dodrio</td>\n",
       "      <td>Normal</td>\n",
       "    </tr>\n",
       "    <tr>\n",
       "      <th>1</th>\n",
       "      <td>dataset_Dodrio33.jpg</td>\n",
       "      <td>Dodrio</td>\n",
       "      <td>Normal</td>\n",
       "    </tr>\n",
       "    <tr>\n",
       "      <th>2</th>\n",
       "      <td>dataset_Dodrio27.jpg</td>\n",
       "      <td>Dodrio</td>\n",
       "      <td>Normal</td>\n",
       "    </tr>\n",
       "    <tr>\n",
       "      <th>3</th>\n",
       "      <td>dataset_Dodrio27.jpg</td>\n",
       "      <td>Dodrio</td>\n",
       "      <td>Normal</td>\n",
       "    </tr>\n",
       "    <tr>\n",
       "      <th>4</th>\n",
       "      <td>dataset_Dodrio26.jpg</td>\n",
       "      <td>Dodrio</td>\n",
       "      <td>Normal</td>\n",
       "    </tr>\n",
       "    <tr>\n",
       "      <th>...</th>\n",
       "      <td>...</td>\n",
       "      <td>...</td>\n",
       "      <td>...</td>\n",
       "    </tr>\n",
       "    <tr>\n",
       "      <th>19656</th>\n",
       "      <td>pokedex2_Typhlosion-Hisui.png</td>\n",
       "      <td>Typhlosion-Hisui</td>\n",
       "      <td>Fire</td>\n",
       "    </tr>\n",
       "    <tr>\n",
       "      <th>19657</th>\n",
       "      <td>pokedex_urshifu.jpg</td>\n",
       "      <td>Urshifu</td>\n",
       "      <td>Fighting</td>\n",
       "    </tr>\n",
       "    <tr>\n",
       "      <th>19658</th>\n",
       "      <td>pokedex_shellos.jpg</td>\n",
       "      <td>Shellos</td>\n",
       "      <td>Water</td>\n",
       "    </tr>\n",
       "    <tr>\n",
       "      <th>19659</th>\n",
       "      <td>pokedex2_Slowbro-Galar.png</td>\n",
       "      <td>Slowbro-Galar</td>\n",
       "      <td>Poison</td>\n",
       "    </tr>\n",
       "    <tr>\n",
       "      <th>19665</th>\n",
       "      <td>pokedex_burmy.jpg</td>\n",
       "      <td>Burmy</td>\n",
       "      <td>Bug</td>\n",
       "    </tr>\n",
       "  </tbody>\n",
       "</table>\n",
       "<p>15358 rows × 3 columns</p>\n",
       "</div>"
      ],
      "text/plain": [
       "                          image_name              name     type1\n",
       "0               dataset_Dodrio33.jpg            Dodrio    Normal\n",
       "1               dataset_Dodrio33.jpg            Dodrio    Normal\n",
       "2               dataset_Dodrio27.jpg            Dodrio    Normal\n",
       "3               dataset_Dodrio27.jpg            Dodrio    Normal\n",
       "4               dataset_Dodrio26.jpg            Dodrio    Normal\n",
       "...                              ...               ...       ...\n",
       "19656  pokedex2_Typhlosion-Hisui.png  Typhlosion-Hisui      Fire\n",
       "19657            pokedex_urshifu.jpg           Urshifu  Fighting\n",
       "19658            pokedex_shellos.jpg           Shellos     Water\n",
       "19659     pokedex2_Slowbro-Galar.png     Slowbro-Galar    Poison\n",
       "19665              pokedex_burmy.jpg             Burmy       Bug\n",
       "\n",
       "[15358 rows x 3 columns]"
      ]
     },
     "execution_count": 8,
     "metadata": {},
     "output_type": "execute_result"
    }
   ],
   "source": [
    "# cleaning\n",
    "# remove rows that do not contain main types\n",
    "main_types = [\"Water\", \"Normal\", \"Grass\", \"Pyschic\", \"Bug\", \"Fire\", \"Poison\", \"Ground\", \"Fighting\", \"Rock\"]\n",
    "images_types = images_types[images_types['type1'].isin(main_types)]\n",
    "images_types"
   ]
  },
  {
   "cell_type": "markdown",
   "id": "382ad493",
   "metadata": {},
   "source": [
    "## Split Folders for Train-Test and By Class\n",
    "\n",
    "Time to get modelling. We'll start by sorting images into train and test, making folders for both, creating classifier labels, and then moving the images into their proper type classifier folder within both the trian and test folders."
   ]
  },
  {
   "cell_type": "code",
   "execution_count": null,
   "id": "5f9c2c87",
   "metadata": {
    "scrolled": true
   },
   "outputs": [
    {
     "name": "stderr",
     "output_type": "stream",
     "text": [
      "Copying files: 10131 files [00:04, 2384.72 files/s]\n"
     ]
    },
    {
     "data": {
      "text/html": [
       "<div>\n",
       "<style scoped>\n",
       "    .dataframe tbody tr th:only-of-type {\n",
       "        vertical-align: middle;\n",
       "    }\n",
       "\n",
       "    .dataframe tbody tr th {\n",
       "        vertical-align: top;\n",
       "    }\n",
       "\n",
       "    .dataframe thead th {\n",
       "        text-align: right;\n",
       "    }\n",
       "</style>\n",
       "<table border=\"1\" class=\"dataframe\">\n",
       "  <thead>\n",
       "    <tr style=\"text-align: right;\">\n",
       "      <th></th>\n",
       "      <th>image_name</th>\n",
       "      <th>name</th>\n",
       "      <th>type1</th>\n",
       "      <th>split</th>\n",
       "    </tr>\n",
       "  </thead>\n",
       "  <tbody>\n",
       "    <tr>\n",
       "      <th>4</th>\n",
       "      <td>dataset_Dodrio26.jpg</td>\n",
       "      <td>Dodrio</td>\n",
       "      <td>Normal</td>\n",
       "      <td>train</td>\n",
       "    </tr>\n",
       "    <tr>\n",
       "      <th>6</th>\n",
       "      <td>dataset_Dodrio32.jpg</td>\n",
       "      <td>Dodrio</td>\n",
       "      <td>Normal</td>\n",
       "      <td>train</td>\n",
       "    </tr>\n",
       "    <tr>\n",
       "      <th>8</th>\n",
       "      <td>dataset_Dodrio24.jpg</td>\n",
       "      <td>Dodrio</td>\n",
       "      <td>Normal</td>\n",
       "      <td>train</td>\n",
       "    </tr>\n",
       "    <tr>\n",
       "      <th>10</th>\n",
       "      <td>dataset_Dodrio30.jpg</td>\n",
       "      <td>Dodrio</td>\n",
       "      <td>Normal</td>\n",
       "      <td>train</td>\n",
       "    </tr>\n",
       "    <tr>\n",
       "      <th>12</th>\n",
       "      <td>dataset_Dodrio18.jpg</td>\n",
       "      <td>Dodrio</td>\n",
       "      <td>Normal</td>\n",
       "      <td>train</td>\n",
       "    </tr>\n",
       "    <tr>\n",
       "      <th>...</th>\n",
       "      <td>...</td>\n",
       "      <td>...</td>\n",
       "      <td>...</td>\n",
       "      <td>...</td>\n",
       "    </tr>\n",
       "    <tr>\n",
       "      <th>19645</th>\n",
       "      <td>pokedex2_Shellos-East.png</td>\n",
       "      <td>Shellos-East</td>\n",
       "      <td>Water</td>\n",
       "      <td>test</td>\n",
       "    </tr>\n",
       "    <tr>\n",
       "      <th>19649</th>\n",
       "      <td>pokedex2_Burmy-Sandy.png</td>\n",
       "      <td>Burmy-Sandy</td>\n",
       "      <td>Bug</td>\n",
       "      <td>test</td>\n",
       "    </tr>\n",
       "    <tr>\n",
       "      <th>19650</th>\n",
       "      <td>pokedex2_Lycanroc-Dusk.png</td>\n",
       "      <td>Lycanroc-Dusk</td>\n",
       "      <td>Rock</td>\n",
       "      <td>test</td>\n",
       "    </tr>\n",
       "    <tr>\n",
       "      <th>19651</th>\n",
       "      <td>pokedex2_Burmy-Trash.png</td>\n",
       "      <td>Burmy-Trash</td>\n",
       "      <td>Bug</td>\n",
       "      <td>test</td>\n",
       "    </tr>\n",
       "    <tr>\n",
       "      <th>19656</th>\n",
       "      <td>pokedex2_Typhlosion-Hisui.png</td>\n",
       "      <td>Typhlosion-Hisui</td>\n",
       "      <td>Fire</td>\n",
       "      <td>test</td>\n",
       "    </tr>\n",
       "  </tbody>\n",
       "</table>\n",
       "<p>7694 rows × 4 columns</p>\n",
       "</div>"
      ],
      "text/plain": [
       "                          image_name              name   type1  split\n",
       "4               dataset_Dodrio26.jpg            Dodrio  Normal  train\n",
       "6               dataset_Dodrio32.jpg            Dodrio  Normal  train\n",
       "8               dataset_Dodrio24.jpg            Dodrio  Normal  train\n",
       "10              dataset_Dodrio30.jpg            Dodrio  Normal  train\n",
       "12              dataset_Dodrio18.jpg            Dodrio  Normal  train\n",
       "...                              ...               ...     ...    ...\n",
       "19645      pokedex2_Shellos-East.png      Shellos-East   Water   test\n",
       "19649       pokedex2_Burmy-Sandy.png       Burmy-Sandy     Bug   test\n",
       "19650     pokedex2_Lycanroc-Dusk.png     Lycanroc-Dusk    Rock   test\n",
       "19651       pokedex2_Burmy-Trash.png       Burmy-Trash     Bug   test\n",
       "19656  pokedex2_Typhlosion-Hisui.png  Typhlosion-Hisui    Fire   test\n",
       "\n",
       "[7694 rows x 4 columns]"
      ]
     },
     "execution_count": 9,
     "metadata": {},
     "output_type": "execute_result"
    }
   ],
   "source": [
    "# create train-test-validation folders\n",
    "splitfolders.ratio('data', output=\"train_test_folders\", seed=1337, ratio=(.8, 0.2)) \n",
    "\n",
    "# add images to folders\n",
    "train_list = []\n",
    "for image in os.listdir(\"train_test_folders/train/images\"):\n",
    "    train_list.append(image)\n",
    "    \n",
    "test_list = []\n",
    "for image in os.listdir(\"train_test_folders/val/images\"):\n",
    "    test_list.append(image)\n",
    "\n",
    "    \n",
    "# note in dataframe which folder image is in\n",
    "train_df = images_types.loc[images_types.apply(lambda row: row[\"image_name\"] in train_list, axis=1)]\n",
    "test_df = images_types.loc[images_types.apply(lambda row: row[\"image_name\"] in test_list, axis=1)]\n",
    "\n",
    "train_df[\"split\"] = \"train\"\n",
    "test_df[\"split\"] = \"test\"\n",
    "\n",
    "pdList = [train_df, test_df]\n",
    "df_tts = pd.concat(pdList)\n",
    "df_tts = df_tts.drop_duplicates('image_name')\n",
    "df_tts"
   ]
  },
  {
   "cell_type": "code",
   "execution_count": null,
   "id": "b9462a4f",
   "metadata": {},
   "outputs": [
    {
     "ename": "Error",
     "evalue": "Destination path 'train_test_folders/train/images/Normal/dataset_Dodrio26.jpg' already exists",
     "output_type": "error",
     "traceback": [
      "\u001b[0;31m---------------------------------------------------------------------------\u001b[0m",
      "\u001b[0;31mError\u001b[0m                                     Traceback (most recent call last)",
      "Cell \u001b[0;32mIn[10], line 13\u001b[0m\n\u001b[1;32m     11\u001b[0m     os\u001b[38;5;241m.\u001b[39mmkdir(os\u001b[38;5;241m.\u001b[39mpath\u001b[38;5;241m.\u001b[39mjoin(test_dir, class_label))\n\u001b[1;32m     12\u001b[0m \u001b[38;5;28;01mif\u001b[39;00m row[\u001b[38;5;124m'\u001b[39m\u001b[38;5;124msplit\u001b[39m\u001b[38;5;124m'\u001b[39m] \u001b[38;5;241m==\u001b[39m \u001b[38;5;124m'\u001b[39m\u001b[38;5;124mtrain\u001b[39m\u001b[38;5;124m'\u001b[39m:\n\u001b[0;32m---> 13\u001b[0m     \u001b[43mshutil\u001b[49m\u001b[38;5;241;43m.\u001b[39;49m\u001b[43mmove\u001b[49m\u001b[43m(\u001b[49m\u001b[43mos\u001b[49m\u001b[38;5;241;43m.\u001b[39;49m\u001b[43mpath\u001b[49m\u001b[38;5;241;43m.\u001b[39;49m\u001b[43mjoin\u001b[49m\u001b[43m(\u001b[49m\u001b[43mtrain_dir\u001b[49m\u001b[43m,\u001b[49m\u001b[43m \u001b[49m\u001b[43mfilename\u001b[49m\u001b[43m)\u001b[49m\u001b[43m,\u001b[49m\u001b[43m \u001b[49m\u001b[43mos\u001b[49m\u001b[38;5;241;43m.\u001b[39;49m\u001b[43mpath\u001b[49m\u001b[38;5;241;43m.\u001b[39;49m\u001b[43mjoin\u001b[49m\u001b[43m(\u001b[49m\u001b[43mtrain_dir\u001b[49m\u001b[43m,\u001b[49m\u001b[43m \u001b[49m\u001b[43mclass_label\u001b[49m\u001b[43m)\u001b[49m\u001b[43m)\u001b[49m\n\u001b[1;32m     14\u001b[0m \u001b[38;5;28;01melif\u001b[39;00m row[\u001b[38;5;124m'\u001b[39m\u001b[38;5;124msplit\u001b[39m\u001b[38;5;124m'\u001b[39m] \u001b[38;5;241m==\u001b[39m \u001b[38;5;124m'\u001b[39m\u001b[38;5;124mtest\u001b[39m\u001b[38;5;124m'\u001b[39m:\n\u001b[1;32m     15\u001b[0m     shutil\u001b[38;5;241m.\u001b[39mmove(os\u001b[38;5;241m.\u001b[39mpath\u001b[38;5;241m.\u001b[39mjoin(test_dir, filename), os\u001b[38;5;241m.\u001b[39mpath\u001b[38;5;241m.\u001b[39mjoin(test_dir, class_label))\n",
      "File \u001b[0;32m/opt/homebrew/Caskroom/miniforge/base/envs/middle-earth/lib/python3.8/shutil.py:789\u001b[0m, in \u001b[0;36mmove\u001b[0;34m(src, dst, copy_function)\u001b[0m\n\u001b[1;32m    787\u001b[0m     real_dst \u001b[38;5;241m=\u001b[39m os\u001b[38;5;241m.\u001b[39mpath\u001b[38;5;241m.\u001b[39mjoin(dst, _basename(src))\n\u001b[1;32m    788\u001b[0m     \u001b[38;5;28;01mif\u001b[39;00m os\u001b[38;5;241m.\u001b[39mpath\u001b[38;5;241m.\u001b[39mexists(real_dst):\n\u001b[0;32m--> 789\u001b[0m         \u001b[38;5;28;01mraise\u001b[39;00m Error(\u001b[38;5;124m\"\u001b[39m\u001b[38;5;124mDestination path \u001b[39m\u001b[38;5;124m'\u001b[39m\u001b[38;5;132;01m%s\u001b[39;00m\u001b[38;5;124m'\u001b[39m\u001b[38;5;124m already exists\u001b[39m\u001b[38;5;124m\"\u001b[39m \u001b[38;5;241m%\u001b[39m real_dst)\n\u001b[1;32m    790\u001b[0m \u001b[38;5;28;01mtry\u001b[39;00m:\n\u001b[1;32m    791\u001b[0m     os\u001b[38;5;241m.\u001b[39mrename(src, real_dst)\n",
      "\u001b[0;31mError\u001b[0m: Destination path 'train_test_folders/train/images/Normal/dataset_Dodrio26.jpg' already exists"
     ]
    }
   ],
   "source": [
    "# add class folders and organize images\n",
    "train_dir = 'train_test_folders/train/images'\n",
    "test_dir = 'train_test_folders/val/images'\n",
    "\n",
    "for index, row in df_tts.iterrows():\n",
    "    class_label = row['type1']  \n",
    "    filename = row['image_name']  \n",
    "    if class_label not in os.listdir(train_dir):\n",
    "        os.mkdir(os.path.join(train_dir, class_label))\n",
    "    if class_label not in os.listdir(test_dir):\n",
    "        os.mkdir(os.path.join(test_dir, class_label))\n",
    "    if row['split'] == 'train':\n",
    "        shutil.move(os.path.join(train_dir, filename), os.path.join(train_dir, class_label))\n",
    "    elif row['split'] == 'test':\n",
    "        shutil.move(os.path.join(test_dir, filename), os.path.join(test_dir, class_label))"
   ]
  },
  {
   "cell_type": "markdown",
   "id": "211b4220",
   "metadata": {},
   "source": [
    "# Modelling\n",
    "\n",
    "First we'll create the generators we'll run our CNN models on. Because Pokémon images are pretty simple in design with black outlines and 2-3 colors, a smaller image size will make our models run better and faster. We'll aslo includ the \"rgb\" color mode."
   ]
  },
  {
   "cell_type": "code",
   "execution_count": null,
   "id": "cd4a6a44",
   "metadata": {},
   "outputs": [],
   "source": [
    "# create generators\n",
    "train_path = \"train_test_folders/train/images\"\n",
    "test_path = \"train_test_folders/val/images\"\n",
    "\n",
    "data_gen = ImageDataGenerator(rescale = 1./255, horizontal_flip = True)\n",
    "\n",
    "train_generator = data_gen.flow_from_directory(train_path, target_size = (32, 32), color_mode = \"rgb\", \n",
    "                                                    batch_size = 32, class_mode = \"categorical\")\n",
    "\n",
    "test_generator = data_gen.flow_from_directory(test_path, target_size = (32, 32), color_mode = \"rgb\", \n",
    "                                                    batch_size = 32, class_mode = \"categorical\")"
   ]
  },
  {
   "cell_type": "markdown",
   "id": "d05231f0",
   "metadata": {},
   "source": [
    "## Model 1"
   ]
  },
  {
   "cell_type": "markdown",
   "id": "2a8c622c",
   "metadata": {},
   "source": [
    "For Model 1, we're going to use a simple convolutional model set up with a kernel size of (2,2). We'll have three layers between our input and output."
   ]
  },
  {
   "cell_type": "code",
   "execution_count": null,
   "id": "fb4182e1",
   "metadata": {},
   "outputs": [],
   "source": [
    "# set regulator, loss function, and Adam optimizer\n",
    "reg = l2(3e-3)\n",
    "cce = tf.keras.losses.CategoricalCrossentropy()\n",
    "opt = keras.optimizers.Adam()"
   ]
  },
  {
   "cell_type": "code",
   "execution_count": null,
   "id": "b6942356",
   "metadata": {},
   "outputs": [],
   "source": [
    "# build model\n",
    "model = Sequential()\n",
    "model.add(Conv2D(filters=32, kernel_size=(2, 2), activation='relu', input_shape=(32, 32, 3)))\n",
    "model.add(MaxPooling2D(pool_size=(2, 2)))\n",
    "model.add(Conv2D(32, (3, 3), activation='relu'))\n",
    "model.add(Flatten())\n",
    "model.add(Dense(32, activation='relu', kernel_regularizer = reg))\n",
    "model.add(Dense(16, activation='relu', kernel_regularizer = reg))\n",
    "model.add(Dense(9, activation='softmax', kernel_regularizer = reg))\n",
    "model.compile(optimizer=opt, loss=cce,  metrics=['accuracy'])\n",
    "model_1 = model.fit(train_generator, verbose = 1, validation_data = test_generator, epochs=100)"
   ]
  },
  {
   "cell_type": "markdown",
   "id": "1b7b612d",
   "metadata": {},
   "source": [
    "Not bad for our first model! Nearly 95% accuracy for train and almost 60% for test. There's definitely some overfit happening, but for now we're getting higher than our modeless baseline which would be 24% (367/1534 for the majority class water).\n",
    "\n",
    "Let's plot it and see what these epochs look like in terms of loss and accuracy."
   ]
  },
  {
   "cell_type": "code",
   "execution_count": null,
   "id": "456a0be6",
   "metadata": {},
   "outputs": [],
   "source": [
    "# plot loss\n",
    "plt.plot(model_1.history[\"loss\"], label = \"train loss\");\n",
    "plt.plot(model_1.history[\"val_loss\"], label = \"test loss\")\n",
    "plt.legend(loc = \"upper left\")\n",
    "plt.xlabel(\"epoch number\")\n",
    "plt.ylabel(\"loss value\");"
   ]
  },
  {
   "cell_type": "code",
   "execution_count": null,
   "id": "d5b1684b",
   "metadata": {},
   "outputs": [],
   "source": [
    "# plot accuracy\n",
    "plt.plot(model_1.history[\"accuracy\"], label = \"train accuracy\");\n",
    "plt.plot(model_1.history[\"val_accuracy\"], label = \"test accuracy\")\n",
    "plt.legend(loc = \"upper left\")\n",
    "plt.xlabel(\"epoch number\")\n",
    "plt.ylabel(\"accuracy score\");"
   ]
  },
  {
   "cell_type": "markdown",
   "id": "f88b042c",
   "metadata": {},
   "source": [
    "It'll help us to know what's getting mislabeled. Let's do a confusion matrix using the types we've inputted previously."
   ]
  },
  {
   "cell_type": "code",
   "execution_count": null,
   "id": "f8a545a8",
   "metadata": {},
   "outputs": [],
   "source": [
    "# new labels\n",
    "types = [\"Water\", \"Rock\", \"Poison\", \"Normal\", \"Ground\", \"Grass\", \"Fire\", \"Fighting\", \"Bug\"]\n",
    "\n",
    "# get predicted values\n",
    "Y_pred = model.predict(test_generator, 1534 // 32+1)\n",
    "y_pred = np.argmax(Y_pred, axis=1)\n",
    "\n",
    "# create confusion matrix\n",
    "matrix = confusion_matrix(test_generator.classes, y_pred).tolist()\n",
    "\n",
    "# convert to heatmap\n",
    "sns.heatmap(matrix, annot=True, fmt='d', xticklabels=types, yticklabels=types)\n",
    "plt.title('Base Model Confusion Matrix')\n",
    "plt.xlabel('Predicted Type')\n",
    "plt.ylabel('Actual Type')\n",
    "plt.show()"
   ]
  },
  {
   "cell_type": "markdown",
   "id": "c2232a6e",
   "metadata": {},
   "source": [
    "It looks like Bug and Grass are often mistaken for each other, which makes sense. Usually these types overlap considerably with some Pokémon having both types. They're also often both green-colored.\n",
    "\n",
    "In fact, our Bug and Grass types overall seem to be having the most issues. The model is mistaking too many other types for these ones."
   ]
  },
  {
   "cell_type": "markdown",
   "id": "02601075",
   "metadata": {},
   "source": [
    "## Model 2"
   ]
  },
  {
   "cell_type": "markdown",
   "id": "c0e2f886",
   "metadata": {},
   "source": [
    "While train accuracy seems to be going up with each epoch, it looks like test accuracy is holding steady around 53-55% despite the number of epochs. \n",
    "\n",
    "We need to solve for overfitting. To do this we can increase regularization, add more convolutional layers, decrease learning rate, and/or change the optimization algorithm from adam to something like SGD.\n",
    "\n",
    "To begin out iterative process, we'll start by increasing regularization with Dropout and early stopping."
   ]
  },
  {
   "cell_type": "code",
   "execution_count": null,
   "id": "ecee535d",
   "metadata": {},
   "outputs": [],
   "source": [
    "# set Early Stopping for callbacks\n",
    "es = EarlyStopping(monitor = \"val_accuracy\", mode = \"min\", verbose = 1, patience = 30)"
   ]
  },
  {
   "cell_type": "code",
   "execution_count": null,
   "id": "6355fff2",
   "metadata": {},
   "outputs": [],
   "source": [
    "# build model\n",
    "model2 = Sequential()\n",
    "model2.add(Conv2D(filters=32, kernel_size=(2, 2), activation='relu', input_shape=(32, 32, 3)))\n",
    "model2.add(MaxPooling2D(pool_size=(2, 2)))\n",
    "model2.add(Conv2D(32, (3, 3), activation='relu'))\n",
    "model2.add(Flatten())\n",
    "model2.add(Dense(32, activation='relu', kernel_regularizer = reg))\n",
    "model2.add(Dropout(0.5))\n",
    "model2.add(Dense(16, activation='relu', kernel_regularizer = reg))\n",
    "model2.add(Dense(9, activation='softmax', kernel_regularizer = reg))\n",
    "model2.compile(optimizer=opt, loss=cce,  metrics=['accuracy'])\n",
    "model_2 = model2.fit(train_generator, verbose = 1, validation_data = test_generator, epochs = 100, callbacks=[es])"
   ]
  },
  {
   "cell_type": "code",
   "execution_count": null,
   "id": "2daa36e3",
   "metadata": {},
   "outputs": [],
   "source": [
    "# plot loss\n",
    "plt.plot(model_2.history[\"loss\"], label = \"train loss\");\n",
    "plt.plot(model_2.history[\"val_loss\"], label = \"test loss\")\n",
    "plt.legend(loc = \"upper left\")\n",
    "plt.xlabel(\"epoch number\")\n",
    "plt.ylabel(\"loss value\");"
   ]
  },
  {
   "cell_type": "code",
   "execution_count": null,
   "id": "91c9c422",
   "metadata": {},
   "outputs": [],
   "source": [
    "# plot accuracy\n",
    "plt.plot(model_2.history[\"accuracy\"], label = \"train accuracy\");\n",
    "plt.plot(model_2.history[\"val_accuracy\"], label = \"test accuracy\")\n",
    "plt.legend(loc = \"upper left\")\n",
    "plt.xlabel(\"epoch number\")\n",
    "plt.ylabel(\"accuracy score\");"
   ]
  },
  {
   "cell_type": "markdown",
   "id": "09f38fb2",
   "metadata": {},
   "source": [
    "While overfit no longer seems to be an issue, our accuracy is much lower than before. Let's use a confusion matrix to see what the model is getting wrong."
   ]
  },
  {
   "cell_type": "code",
   "execution_count": null,
   "id": "7059490a",
   "metadata": {},
   "outputs": [],
   "source": [
    "# get predicted values\n",
    "Y_pred = model2.predict(test_generator, 1534// 32+1)\n",
    "y_pred = np.argmax(Y_pred, axis=1)\n",
    "\n",
    "# create confusion matrix\n",
    "matrix = confusion_matrix(test_generator.classes, y_pred).tolist()\n",
    "\n",
    "# convert to heatmap\n",
    "sns.heatmap(matrix, annot=True, fmt='d', xticklabels=types, yticklabels=types)\n",
    "plt.title('Model 2 Confusion Matrix')\n",
    "plt.xlabel('Predicted Type')\n",
    "plt.ylabel('Actual Type')\n",
    "plt.show()"
   ]
  },
  {
   "cell_type": "markdown",
   "id": "c5b09d7f",
   "metadata": {},
   "source": [
    "The type mislabeling is out of control! Everything is now being called a Bug, Grass, Normal, or Poison type despite what it looks like. Not good. Let's go back to Model 1 and try something else."
   ]
  },
  {
   "cell_type": "markdown",
   "id": "b0407c9d",
   "metadata": {},
   "source": [
    "## Model 3"
   ]
  },
  {
   "cell_type": "markdown",
   "id": "2792f6e7",
   "metadata": {},
   "source": [
    "For Model 3, we're going to use Model 1 again but swap Adam for SGD."
   ]
  },
  {
   "cell_type": "code",
   "execution_count": null,
   "id": "683039c8",
   "metadata": {},
   "outputs": [],
   "source": [
    "# build model\n",
    "model3 = Sequential()\n",
    "model3.add(Conv2D(filters=32, kernel_size=(2, 2), activation='relu', input_shape=(32, 32, 3)))\n",
    "model3.add(MaxPooling2D(pool_size=(2, 2)))\n",
    "model3.add(Conv2D(32, (3, 3), activation='relu'))\n",
    "model3.add(Flatten())\n",
    "model3.add(Dense(32, activation='relu', kernel_regularizer = reg))\n",
    "model3.add(Dense(16, activation='relu', kernel_regularizer = reg))\n",
    "model3.add(Dense(9, activation='softmax', kernel_regularizer = reg))\n",
    "\n",
    "model3.compile(optimizer='sgd', loss=cce,  metrics=['accuracy'])\n",
    "model_3 = model3.fit(train_generator, verbose=1, validation_data = test_generator, epochs=50, callbacks=[es])"
   ]
  },
  {
   "cell_type": "code",
   "execution_count": null,
   "id": "cb5871de",
   "metadata": {},
   "outputs": [],
   "source": [
    "# plot loss\n",
    "plt.plot(model_3.history[\"loss\"], label = \"train loss\");\n",
    "plt.plot(model_3.history[\"val_loss\"], label = \"test loss\")\n",
    "plt.legend(loc = \"upper left\")\n",
    "plt.xlabel(\"epoch number\")\n",
    "plt.ylabel(\"loss value\");"
   ]
  },
  {
   "cell_type": "code",
   "execution_count": null,
   "id": "e4a38c70",
   "metadata": {},
   "outputs": [],
   "source": [
    "# plot accuracy\n",
    "plt.plot(model_3.history[\"accuracy\"], label = \"train accuracy\");\n",
    "plt.plot(model_3.history[\"val_accuracy\"], label = \"test accuracy\")\n",
    "plt.legend(loc = \"upper left\")\n",
    "plt.xlabel(\"epoch number\")\n",
    "plt.ylabel(\"accuracy score\");"
   ]
  },
  {
   "cell_type": "markdown",
   "id": "8a2dbf37",
   "metadata": {},
   "source": [
    "Overfitting seems to be relatively solved at this point, though accuracy on the whole is down again."
   ]
  },
  {
   "cell_type": "code",
   "execution_count": null,
   "id": "2202d26f",
   "metadata": {},
   "outputs": [],
   "source": [
    "# get predicted values\n",
    "Y_pred = model3.predict(test_generator, 1534 // 32+1)\n",
    "y_pred = np.argmax(Y_pred, axis=1)\n",
    "\n",
    "# create confusion matrix\n",
    "matrix = confusion_matrix(test_generator.classes, y_pred).tolist()\n",
    "\n",
    "# convert to heatmap\n",
    "sns.heatmap(matrix, annot=True, fmt='d', xticklabels=types, yticklabels=types)\n",
    "plt.title('Model 3 Confusion Matrix')\n",
    "plt.xlabel('Predicted Type')\n",
    "plt.ylabel('Actual Type')\n",
    "plt.show()"
   ]
  },
  {
   "cell_type": "markdown",
   "id": "040795fc",
   "metadata": {},
   "source": [
    "We're still not seeing an overal trend towards accurate predictions."
   ]
  },
  {
   "cell_type": "markdown",
   "id": "314e80c7",
   "metadata": {},
   "source": [
    "## Model 4"
   ]
  },
  {
   "cell_type": "markdown",
   "id": "7c037638",
   "metadata": {},
   "source": [
    "Accuracy on the whole was best in the last model, using the sgd optimizer. Let's continue that with the next one but increase the amount of layers."
   ]
  },
  {
   "cell_type": "code",
   "execution_count": null,
   "id": "b3d8aae5",
   "metadata": {},
   "outputs": [],
   "source": [
    "# build model\n",
    "model4 = Sequential()\n",
    "model4.add(Conv2D(filters=32, kernel_size=(2, 2), activation='relu', input_shape=(32, 32, 3)))\n",
    "model4.add(MaxPooling2D(pool_size=(2, 2)))\n",
    "model4.add(Conv2D(32, (3, 3), activation='relu'))\n",
    "model4.add(Flatten())\n",
    "model4.add(Dense(32, activation='relu', kernel_regularizer = reg))\n",
    "model4.add(Dense(32, activation='relu', kernel_regularizer = reg))\n",
    "model4.add(Dense(32, activation='relu', kernel_regularizer = reg))\n",
    "model4.add(Dense(16, activation='relu', kernel_regularizer = reg))\n",
    "model4.add(Dense(16, activation='relu', kernel_regularizer = reg))\n",
    "model4.add(Dense(16, activation='relu', kernel_regularizer = reg))\n",
    "model4.add(Dense(8, activation='relu', kernel_regularizer = reg))\n",
    "model4.add(Dense(9, activation='softmax', kernel_regularizer = reg))\n",
    "\n",
    "model4.compile(optimizer='sgd', loss=cce,  metrics=['accuracy'])\n",
    "\n",
    "model_4 = model4.fit(train_generator, verbose=1, validation_data = test_generator, epochs=100, callbacks = [es])"
   ]
  },
  {
   "cell_type": "code",
   "execution_count": null,
   "id": "7e5f48c0",
   "metadata": {},
   "outputs": [],
   "source": [
    "# plot loss\n",
    "plt.plot(model_4.history[\"loss\"], label = \"train loss\");\n",
    "plt.plot(model_4.history[\"val_loss\"], label = \"test loss\")\n",
    "plt.legend(loc = \"upper left\")\n",
    "plt.xlabel(\"epoch number\")\n",
    "plt.ylabel(\"loss value\");"
   ]
  },
  {
   "cell_type": "code",
   "execution_count": null,
   "id": "6f0e2a9d",
   "metadata": {},
   "outputs": [],
   "source": [
    "# plot accuracy\n",
    "plt.plot(model_4.history[\"accuracy\"], label = \"train accuracy\");\n",
    "plt.plot(model_4.history[\"val_accuracy\"], label = \"test accuracy\")\n",
    "plt.legend(loc = \"upper left\")\n",
    "plt.xlabel(\"epoch number\")\n",
    "plt.ylabel(\"accuracy score\");"
   ]
  },
  {
   "cell_type": "markdown",
   "id": "ea0c0bea",
   "metadata": {},
   "source": [
    "The test accuracy seems to be stalling out around 40%."
   ]
  },
  {
   "cell_type": "code",
   "execution_count": null,
   "id": "103a8222",
   "metadata": {},
   "outputs": [],
   "source": [
    "# get predicted values\n",
    "Y_pred = model4.predict(test_generator, 1534 // 32+1)\n",
    "y_pred = np.argmax(Y_pred, axis=1)\n",
    "\n",
    "# create confusion matrix\n",
    "matrix = confusion_matrix(test_generator.classes, y_pred).tolist()\n",
    "\n",
    "# convert to heatmap\n",
    "sns.heatmap(matrix, annot=True, fmt='d', xticklabels=types, yticklabels=types)\n",
    "plt.title('Model 4 Confusion Matrix')\n",
    "plt.xlabel('Predicted Type')\n",
    "plt.ylabel('Actual Type')\n",
    "plt.show()"
   ]
  },
  {
   "cell_type": "markdown",
   "id": "3fdc3215",
   "metadata": {},
   "source": [
    "Again, nothing is being labled as Water, Rock, Ground, or Fighting. Grass and Bug labeling is mostly wrong.\n",
    "\n",
    "Adding more layers didn't seem to solve much. The last thing we can try is changing the learning rate."
   ]
  },
  {
   "cell_type": "markdown",
   "id": "a6d6608f",
   "metadata": {},
   "source": [
    "## Model 5\n",
    "\n",
    "More layers!"
   ]
  },
  {
   "cell_type": "code",
   "execution_count": null,
   "id": "26873439",
   "metadata": {},
   "outputs": [],
   "source": [
    "# build model\n",
    "opt = SGD(lr=0.01, momentum=0.9)\n",
    "model5 = Sequential()\n",
    "model5.add(Conv2D(filters=32, kernel_size=(2, 2), activation='relu', input_shape=(32, 32, 3)))\n",
    "model5.add(MaxPooling2D(pool_size=(2, 2)))\n",
    "model5.add(Conv2D(32, (3, 3), activation='relu'))\n",
    "model5.add(Flatten())\n",
    "model5.add(Dense(32, activation='relu', kernel_regularizer = reg))\n",
    "model5.add(Dense(16, activation='relu', kernel_regularizer = reg))\n",
    "model5.add(Dense(9, activation='softmax', kernel_regularizer = reg))\n",
    "\n",
    "model5.compile(optimizer = opt, loss=cce,  metrics=['accuracy'])\n",
    "model_5 = model5.fit(train_generator, verbose=1, validation_data = test_generator, epochs=50, callbacks=[es])"
   ]
  },
  {
   "cell_type": "code",
   "execution_count": null,
   "id": "87b808fe",
   "metadata": {},
   "outputs": [],
   "source": [
    "# plot loss\n",
    "plt.plot(model_5.history[\"loss\"], label = \"train loss\");\n",
    "plt.plot(model_5.history[\"val_loss\"], label = \"test loss\")\n",
    "plt.legend(loc = \"upper left\")\n",
    "plt.xlabel(\"epoch number\")\n",
    "plt.ylabel(\"loss value\");"
   ]
  },
  {
   "cell_type": "code",
   "execution_count": null,
   "id": "40e5b2c3",
   "metadata": {},
   "outputs": [],
   "source": [
    "# plot accuracy\n",
    "plt.plot(model_5.history[\"accuracy\"], label = \"train accuracy\");\n",
    "plt.plot(model_5.history[\"val_accuracy\"], label = \"test accuracy\")\n",
    "plt.legend(loc = \"upper left\")\n",
    "plt.xlabel(\"epoch number\")\n",
    "plt.ylabel(\"accuracy score\");"
   ]
  },
  {
   "cell_type": "code",
   "execution_count": null,
   "id": "71cf5a2b",
   "metadata": {},
   "outputs": [],
   "source": [
    "# get predicted values\n",
    "Y_pred = model5.predict(test_generator, 1534 // 32+1)\n",
    "y_pred = np.argmax(Y_pred, axis=1)\n",
    "\n",
    "# create confusion matrix\n",
    "matrix = confusion_matrix(test_generator.classes, y_pred).tolist()\n",
    "\n",
    "# convert to heatmap\n",
    "sns.heatmap(matrix, annot=True, fmt='d', xticklabels=types, yticklabels=types)\n",
    "plt.title('Model 5 Confusion Matrix')\n",
    "plt.xlabel('Predicted Type')\n",
    "plt.ylabel('Actual Type')\n",
    "plt.show()"
   ]
  },
  {
   "cell_type": "markdown",
   "id": "80941c53",
   "metadata": {},
   "source": [
    "It seems like with more layers, the model is defaulting to labeling almost everything as Bug, Poison, or Normal types.\n",
    "\n",
    "Of the five models we tried, Model 3 is the best with sgd optimizer."
   ]
  },
  {
   "cell_type": "code",
   "execution_count": null,
   "id": "a6a0fba7",
   "metadata": {},
   "outputs": [],
   "source": []
  }
 ],
 "metadata": {
  "kernelspec": {
   "display_name": "middle-earth",
   "language": "python",
   "name": "middle-earth"
  },
  "language_info": {
   "codemirror_mode": {
    "name": "ipython",
    "version": 3
   },
   "file_extension": ".py",
   "mimetype": "text/x-python",
   "name": "python",
   "nbconvert_exporter": "python",
   "pygments_lexer": "ipython3",
   "version": "3.8.16"
  }
 },
 "nbformat": 4,
 "nbformat_minor": 5
}
