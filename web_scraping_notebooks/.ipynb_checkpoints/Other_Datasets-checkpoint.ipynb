{
 "cells": [
  {
   "cell_type": "code",
   "execution_count": 1,
   "id": "de9e22fa",
   "metadata": {},
   "outputs": [],
   "source": [
    "import os\n",
    "import shutil"
   ]
  },
  {
   "cell_type": "markdown",
   "id": "516ef7da",
   "metadata": {},
   "source": [
    "This is code to rename all the files in the \"Pokemon Generation One\" dataset by HARSHITDWIVEDI  on Kaggle."
   ]
  },
  {
   "cell_type": "code",
   "execution_count": 2,
   "id": "237c4c2b",
   "metadata": {},
   "outputs": [],
   "source": [
    "# number and rename all images by pokemon name\n",
    "path = \"data/PokemonData/\"\n",
    "\n",
    "for folder in os.listdir(path):\n",
    "    pokemon_name = folder\n",
    "    for i, file_name in enumerate(os.listdir(path + folder)):\n",
    "        file_extension = os.path.splitext(file_name)[1]\n",
    "        new_file_name = f\"PokemonData_{pokemon_name}{i+1}{file_extension}\"\n",
    "        os.rename(path + folder + \"/\" + file_name, path + folder + \"/\" + new_file_name)"
   ]
  },
  {
   "cell_type": "markdown",
   "id": "e3721e52",
   "metadata": {},
   "source": [
    "This is code to rename all the files in the \"7,000 Labeled Pokemon\" dataset by Lance Zhang on Kaggle."
   ]
  },
  {
   "cell_type": "code",
   "execution_count": 3,
   "id": "3eead0d8",
   "metadata": {},
   "outputs": [],
   "source": [
    "path = \"data/dataset/\"\n",
    "\n",
    "for folder in os.listdir(path):\n",
    "    pokemon_name = folder\n",
    "    for i, file_name in enumerate(os.listdir(path + folder)):\n",
    "        file_extension = os.path.splitext(file_name)[1]\n",
    "        new_file_name = f\"dataset_{pokemon_name}{i+1}{file_extension}\"\n",
    "        os.rename(path + folder + \"/\" + file_name, path + folder + \"/\" + new_file_name)"
   ]
  },
  {
   "cell_type": "markdown",
   "id": "a4854830",
   "metadata": {},
   "source": [
    "Let's move all these files into our main folder."
   ]
  },
  {
   "cell_type": "code",
   "execution_count": 4,
   "id": "37e3b840",
   "metadata": {},
   "outputs": [],
   "source": [
    "dir_src = \"data/PokemonData/\"\n",
    "dir_dst = \"data/images/\"\n",
    "for folder in os.listdir(dir_src):\n",
    "    for image in os.listdir(dir_src +'/'+folder):\n",
    "        shutil.copy(dir_src+'/'+folder+'/'+image, dir_dst)"
   ]
  },
  {
   "cell_type": "code",
   "execution_count": 5,
   "id": "b3884a20",
   "metadata": {},
   "outputs": [],
   "source": [
    "dir_src = \"data/dataset/\"\n",
    "dir_dst = \"data/images/\"\n",
    "for folder in os.listdir(dir_src):\n",
    "    for image in os.listdir(dir_src +'/'+folder):\n",
    "        shutil.copy(dir_src+'/'+folder+'/'+image, dir_dst)"
   ]
  },
  {
   "cell_type": "code",
   "execution_count": null,
   "id": "592c6473",
   "metadata": {},
   "outputs": [],
   "source": []
  }
 ],
 "metadata": {
  "kernelspec": {
   "display_name": "middle-earth",
   "language": "python",
   "name": "middle-earth"
  },
  "language_info": {
   "codemirror_mode": {
    "name": "ipython",
    "version": 3
   },
   "file_extension": ".py",
   "mimetype": "text/x-python",
   "name": "python",
   "nbconvert_exporter": "python",
   "pygments_lexer": "ipython3",
   "version": "3.8.16"
  }
 },
 "nbformat": 4,
 "nbformat_minor": 5
}
