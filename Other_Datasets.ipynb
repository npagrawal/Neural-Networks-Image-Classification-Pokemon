{
 "cells": [
  {
   "cell_type": "code",
   "execution_count": 23,
   "id": "de9e22fa",
   "metadata": {},
   "outputs": [],
   "source": [
    "import os\n",
    "import shutil"
   ]
  },
  {
   "cell_type": "markdown",
   "id": "516ef7da",
   "metadata": {},
   "source": [
    "This is code to rename all the files in the \"Pokemon Generation One\" dataset by HARSHITDWIVEDI  on Kaggle."
   ]
  },
  {
   "cell_type": "code",
   "execution_count": 24,
   "id": "237c4c2b",
   "metadata": {},
   "outputs": [],
   "source": [
    "# number and rename all images by pokemon name\n",
    "path = \"data/PokemonData/\"\n",
    "\n",
    "for folder in os.listdir(path):\n",
    "    pokemon_name = folder\n",
    "    for i, file_name in enumerate(os.listdir(path + folder)):\n",
    "        file_extension = os.path.splitext(file_name)[1]\n",
    "        new_file_name = f\"PokemonData_{pokemon_name}{i+1}{file_extension}\"\n",
    "        os.rename(path + folder + \"/\" + file_name, path + folder + \"/\" + new_file_name)"
   ]
  },
  {
   "cell_type": "markdown",
   "id": "e3721e52",
   "metadata": {},
   "source": [
    "This is code to rename all the files in the \"7,000 Labeled Pokemon\" dataset by Lance Zhang on Kaggle."
   ]
  },
  {
   "cell_type": "code",
   "execution_count": 18,
   "id": "3eead0d8",
   "metadata": {},
   "outputs": [],
   "source": [
    "path = \"data/dataset/\"\n",
    "\n",
    "for folder in os.listdir(path):\n",
    "    pokemon_name = folder\n",
    "    for i, file_name in enumerate(os.listdir(path + folder)):\n",
    "        file_extension = os.path.splitext(file_name)[1]\n",
    "        new_file_name = f\"dataset_{pokemon_name}{i+1}{file_extension}\"\n",
    "        os.rename(path + folder + \"/\" + file_name, path + folder + \"/\" + new_file_name)"
   ]
  },
  {
   "cell_type": "markdown",
   "id": "a4854830",
   "metadata": {},
   "source": [
    "Let's move all these files into our main folder."
   ]
  },
  {
   "cell_type": "code",
   "execution_count": 19,
   "id": "37e3b840",
   "metadata": {},
   "outputs": [],
   "source": [
    "dir_src = \"data/PokemonData/\"\n",
    "dir_dst = \"data/images/\"\n",
    "for folder in os.listdir(dir_src):\n",
    "    for image in os.listdir(dir_src +'/'+folder):\n",
    "        shutil.copy(dir_src+'/'+folder+'/'+image, dir_dst)"
   ]
  },
  {
   "cell_type": "code",
   "execution_count": 20,
   "id": "b3884a20",
   "metadata": {},
   "outputs": [
    {
     "ename": "IsADirectoryError",
     "evalue": "[Errno 21] Is a directory: 'data/dataset//dataset/dataset_dataset36'",
     "output_type": "error",
     "traceback": [
      "\u001b[0;31m---------------------------------------------------------------------------\u001b[0m",
      "\u001b[0;31mIsADirectoryError\u001b[0m                         Traceback (most recent call last)",
      "Cell \u001b[0;32mIn[20], line 5\u001b[0m\n\u001b[1;32m      3\u001b[0m \u001b[38;5;28;01mfor\u001b[39;00m folder \u001b[38;5;129;01min\u001b[39;00m os\u001b[38;5;241m.\u001b[39mlistdir(dir_src):\n\u001b[1;32m      4\u001b[0m     \u001b[38;5;28;01mfor\u001b[39;00m image \u001b[38;5;129;01min\u001b[39;00m os\u001b[38;5;241m.\u001b[39mlistdir(dir_src \u001b[38;5;241m+\u001b[39m\u001b[38;5;124m'\u001b[39m\u001b[38;5;124m/\u001b[39m\u001b[38;5;124m'\u001b[39m\u001b[38;5;241m+\u001b[39mfolder):\n\u001b[0;32m----> 5\u001b[0m         \u001b[43mshutil\u001b[49m\u001b[38;5;241;43m.\u001b[39;49m\u001b[43mcopy\u001b[49m\u001b[43m(\u001b[49m\u001b[43mdir_src\u001b[49m\u001b[38;5;241;43m+\u001b[39;49m\u001b[38;5;124;43m'\u001b[39;49m\u001b[38;5;124;43m/\u001b[39;49m\u001b[38;5;124;43m'\u001b[39;49m\u001b[38;5;241;43m+\u001b[39;49m\u001b[43mfolder\u001b[49m\u001b[38;5;241;43m+\u001b[39;49m\u001b[38;5;124;43m'\u001b[39;49m\u001b[38;5;124;43m/\u001b[39;49m\u001b[38;5;124;43m'\u001b[39;49m\u001b[38;5;241;43m+\u001b[39;49m\u001b[43mimage\u001b[49m\u001b[43m,\u001b[49m\u001b[43m \u001b[49m\u001b[43mdir_dst\u001b[49m\u001b[43m)\u001b[49m\n",
      "File \u001b[0;32m/opt/homebrew/Caskroom/miniforge/base/envs/middle-earth/lib/python3.8/shutil.py:418\u001b[0m, in \u001b[0;36mcopy\u001b[0;34m(src, dst, follow_symlinks)\u001b[0m\n\u001b[1;32m    416\u001b[0m \u001b[38;5;28;01mif\u001b[39;00m os\u001b[38;5;241m.\u001b[39mpath\u001b[38;5;241m.\u001b[39misdir(dst):\n\u001b[1;32m    417\u001b[0m     dst \u001b[38;5;241m=\u001b[39m os\u001b[38;5;241m.\u001b[39mpath\u001b[38;5;241m.\u001b[39mjoin(dst, os\u001b[38;5;241m.\u001b[39mpath\u001b[38;5;241m.\u001b[39mbasename(src))\n\u001b[0;32m--> 418\u001b[0m \u001b[43mcopyfile\u001b[49m\u001b[43m(\u001b[49m\u001b[43msrc\u001b[49m\u001b[43m,\u001b[49m\u001b[43m \u001b[49m\u001b[43mdst\u001b[49m\u001b[43m,\u001b[49m\u001b[43m \u001b[49m\u001b[43mfollow_symlinks\u001b[49m\u001b[38;5;241;43m=\u001b[39;49m\u001b[43mfollow_symlinks\u001b[49m\u001b[43m)\u001b[49m\n\u001b[1;32m    419\u001b[0m copymode(src, dst, follow_symlinks\u001b[38;5;241m=\u001b[39mfollow_symlinks)\n\u001b[1;32m    420\u001b[0m \u001b[38;5;28;01mreturn\u001b[39;00m dst\n",
      "File \u001b[0;32m/opt/homebrew/Caskroom/miniforge/base/envs/middle-earth/lib/python3.8/shutil.py:264\u001b[0m, in \u001b[0;36mcopyfile\u001b[0;34m(src, dst, follow_symlinks)\u001b[0m\n\u001b[1;32m    262\u001b[0m     os\u001b[38;5;241m.\u001b[39msymlink(os\u001b[38;5;241m.\u001b[39mreadlink(src), dst)\n\u001b[1;32m    263\u001b[0m \u001b[38;5;28;01melse\u001b[39;00m:\n\u001b[0;32m--> 264\u001b[0m     \u001b[38;5;28;01mwith\u001b[39;00m \u001b[38;5;28;43mopen\u001b[39;49m\u001b[43m(\u001b[49m\u001b[43msrc\u001b[49m\u001b[43m,\u001b[49m\u001b[43m \u001b[49m\u001b[38;5;124;43m'\u001b[39;49m\u001b[38;5;124;43mrb\u001b[39;49m\u001b[38;5;124;43m'\u001b[39;49m\u001b[43m)\u001b[49m \u001b[38;5;28;01mas\u001b[39;00m fsrc, \u001b[38;5;28mopen\u001b[39m(dst, \u001b[38;5;124m'\u001b[39m\u001b[38;5;124mwb\u001b[39m\u001b[38;5;124m'\u001b[39m) \u001b[38;5;28;01mas\u001b[39;00m fdst:\n\u001b[1;32m    265\u001b[0m         \u001b[38;5;66;03m# macOS\u001b[39;00m\n\u001b[1;32m    266\u001b[0m         \u001b[38;5;28;01mif\u001b[39;00m _HAS_FCOPYFILE:\n\u001b[1;32m    267\u001b[0m             \u001b[38;5;28;01mtry\u001b[39;00m:\n",
      "\u001b[0;31mIsADirectoryError\u001b[0m: [Errno 21] Is a directory: 'data/dataset//dataset/dataset_dataset36'"
     ]
    }
   ],
   "source": [
    "dir_src = \"data/dataset/\"\n",
    "dir_dst = \"data/images/\"\n",
    "for folder in os.listdir(dir_src):\n",
    "    for image in os.listdir(dir_src +'/'+folder):\n",
    "        shutil.copy(dir_src+'/'+folder+'/'+image, dir_dst)"
   ]
  },
  {
   "cell_type": "code",
   "execution_count": null,
   "id": "592c6473",
   "metadata": {},
   "outputs": [],
   "source": []
  }
 ],
 "metadata": {
  "kernelspec": {
   "display_name": "middle-earth",
   "language": "python",
   "name": "middle-earth"
  },
  "language_info": {
   "codemirror_mode": {
    "name": "ipython",
    "version": 3
   },
   "file_extension": ".py",
   "mimetype": "text/x-python",
   "name": "python",
   "nbconvert_exporter": "python",
   "pygments_lexer": "ipython3",
   "version": "3.8.16"
  }
 },
 "nbformat": 4,
 "nbformat_minor": 5
}
