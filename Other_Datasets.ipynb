{
 "cells": [
  {
   "cell_type": "code",
   "execution_count": 1,
   "id": "de9e22fa",
   "metadata": {},
   "outputs": [],
   "source": [
    "import os"
   ]
  },
  {
   "cell_type": "markdown",
   "id": "516ef7da",
   "metadata": {},
   "source": [
    "This is code to rename all the files in the \"Pokemon Generation One\" dataset by HARSHITDWIVEDI  on Kaggle."
   ]
  },
  {
   "cell_type": "code",
   "execution_count": 2,
   "id": "237c4c2b",
   "metadata": {},
   "outputs": [],
   "source": [
    "# number and rename all images by pokemon name\n",
    "path = \"data/PokemonData/\"\n",
    "\n",
    "for folder in os.listdir(path):\n",
    "    pokemon_name = folder\n",
    "    for i, file_name in enumerate(os.listdir(path + folder)):\n",
    "        file_extension = os.path.splitext(file_name)[1]\n",
    "        new_file_name = f\"{pokemon_name}{i+1}{file_extension}\"\n",
    "        os.rename(path + folder + \"/\" + file_name, path + folder + \"/\" + new_file_name)"
   ]
  },
  {
   "cell_type": "markdown",
   "id": "e3721e52",
   "metadata": {},
   "source": [
    "This is code for \"7,000 Labeled Pokemon\" by Lance Zhange on Kaggle."
   ]
  },
  {
   "cell_type": "code",
   "execution_count": null,
   "id": "3eead0d8",
   "metadata": {},
   "outputs": [],
   "source": [
    "path = \"data/dataset/\"\n",
    "\n",
    "for folder in os.listdir(path):\n",
    "    pokemon_name = folder\n",
    "    for i, file_name in enumerate(os.listdir(path + folder)):\n",
    "        file_extension = os.path.splitext(file_name)[1]\n",
    "        new_file_name = f\"{pokemon_name}{i+1}{file_extension}\"\n",
    "        os.rename(path + folder + \"/\" + file_name, path + folder + \"/\" + new_file_name)"
   ]
  },
  {
   "cell_type": "markdown",
   "id": "a4854830",
   "metadata": {},
   "source": [
    "Let's move all these files into our main folder."
   ]
  },
  {
   "cell_type": "code",
   "execution_count": 18,
   "id": "51b7c169",
   "metadata": {},
   "outputs": [],
   "source": [
    "import glob\n",
    "import os\n",
    "import shutil\n",
    "\n",
    "# Location with subdirectories\n",
    "dir_src = \"data/PokemonData/\"\n",
    "\n",
    "# Destination location to copy all the files\n",
    "dir_dst = \"data/images/\"\n",
    "\n",
    "# Get List of all images\n",
    "files = glob.glob(dir_src + '*.jpg', recursive=True)\n",
    "\n",
    "# For each image\n",
    "for file_name_src in files:\n",
    "    file_dir = os.path.basename(os.path.dirname(file_name_src))  # Would be \"Subfolder_with_patientID1\"\n",
    "    file_name = os.path.basename(file_name_src)  # Would be \"2.dcm\"\n",
    "\n",
    "    file_name_dst = os.path.join(dir_dst, f\"{file_dir}_{file_name}\")  # Would be \"/home/nponcian/Documents/folder_with_subfolders_dest/Subfolder_with_patientID1_2.dcm\"\n",
    "\n",
    "    shutil.copy2(file_name_src, file_name_dst)"
   ]
  },
  {
   "cell_type": "code",
   "execution_count": 19,
   "id": "b3884a20",
   "metadata": {},
   "outputs": [],
   "source": [
    "# Location with subdirectories\n",
    "dir_src = \"data/dataset/\"\n",
    "\n",
    "# Destination location to copy all the files\n",
    "dir_dst = \"data/images/\"\n",
    "\n",
    "# Get List of all images\n",
    "files = glob.glob(dir_src + '*.jpg', recursive=True)\n",
    "\n",
    "# For each image\n",
    "for file_name_src in files:\n",
    "    file_dir = os.path.basename(os.path.dirname(file_name_src))  # Would be \"Subfolder_with_patientID1\"\n",
    "    file_name = os.path.basename(file_name_src)  # Would be \"2.dcm\"\n",
    "\n",
    "    file_name_dst = os.path.join(dir_dst, f\"{file_dir}_{file_name}\")  # Would be \"/home/nponcian/Documents/folder_with_subfolders_dest/Subfolder_with_patientID1_2.dcm\"\n",
    "\n",
    "    shutil.copy2(file_name_src, file_name_dst)"
   ]
  },
  {
   "cell_type": "code",
   "execution_count": null,
   "id": "592c6473",
   "metadata": {},
   "outputs": [],
   "source": []
  }
 ],
 "metadata": {
  "kernelspec": {
   "display_name": "middle-earth",
   "language": "python",
   "name": "middle-earth"
  },
  "language_info": {
   "codemirror_mode": {
    "name": "ipython",
    "version": 3
   },
   "file_extension": ".py",
   "mimetype": "text/x-python",
   "name": "python",
   "nbconvert_exporter": "python",
   "pygments_lexer": "ipython3",
   "version": "3.8.16"
  }
 },
 "nbformat": 4,
 "nbformat_minor": 5
}
