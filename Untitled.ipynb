{
 "cells": [
  {
   "cell_type": "code",
   "execution_count": 1,
   "id": "a37ef060",
   "metadata": {},
   "outputs": [],
   "source": [
    "import numpy as np\n",
    "import pandas as pd\n",
    "import matplotlib.pyplot as plt\n",
    "import seaborn as sns\n",
    "import tensorflow as tf\n",
    "from tensorflow.keras.preprocessing.image import ImageDataGenerator\n",
    "from tensorflow import keras\n",
    "from keras.preprocessing import image\n",
    "\n",
    "import splitfolders\n",
    "import os\n",
    "import shutil\n",
    "from sklearn.preprocessing import MultiLabelBinarizer\n",
    "from sklearn.metrics import ConfusionMatrixDisplay, confusion_matrix\n",
    "\n",
    "from tensorflow.keras.regularizers import l2\n",
    "from tensorflow.keras.utils import to_categorical\n",
    "from tensorflow.keras.models import Sequential\n",
    "from tensorflow.keras.layers import Dense, Flatten, Conv2D, MaxPooling2D, Dropout \n",
    "from tensorflow.keras.applications import VGG16\n",
    "from tensorflow.keras.callbacks import EarlyStopping"
   ]
  },
  {
   "cell_type": "code",
   "execution_count": 2,
   "id": "05eb4551",
   "metadata": {},
   "outputs": [
    {
     "name": "stdout",
     "output_type": "stream",
     "text": [
      "Found 5976 images belonging to 149 classes.\n",
      "Found 1959 images belonging to 150 classes.\n"
     ]
    }
   ],
   "source": [
    "train_dir = \"data/dataset\"\n",
    "test_dir = \"data/PokemonData\"\n",
    "\n",
    "data_gen = ImageDataGenerator(rescale = 1./255, horizontal_flip = True)\n",
    "\n",
    "train_generator = data_gen.flow_from_directory(train_dir, target_size = (64, 64), color_mode ='rgb', \n",
    "                                                    batch_size = 32, class_mode='categorical')\n",
    "\n",
    "test_generator = data_gen.flow_from_directory(test_dir, target_size = (64, 64), color_mode ='rgb',\n",
    "                                              batch_size = 32, class_mode='categorical')"
   ]
  },
  {
   "cell_type": "code",
   "execution_count": 6,
   "id": "97e0fde8",
   "metadata": {},
   "outputs": [
    {
     "data": {
      "text/plain": [
       "<keras.preprocessing.image.DirectoryIterator at 0x177a539a0>"
      ]
     },
     "execution_count": 6,
     "metadata": {},
     "output_type": "execute_result"
    }
   ],
   "source": [
    "train_generator"
   ]
  },
  {
   "cell_type": "code",
   "execution_count": null,
   "id": "0666e169",
   "metadata": {},
   "outputs": [],
   "source": []
  },
  {
   "cell_type": "code",
   "execution_count": null,
   "id": "3d7684fb",
   "metadata": {},
   "outputs": [],
   "source": []
  },
  {
   "cell_type": "code",
   "execution_count": null,
   "id": "5cc9bb99",
   "metadata": {},
   "outputs": [],
   "source": []
  },
  {
   "cell_type": "code",
   "execution_count": 5,
   "id": "aa439e1f",
   "metadata": {},
   "outputs": [
    {
     "name": "stdout",
     "output_type": "stream",
     "text": [
      "Epoch 1/50\n"
     ]
    },
    {
     "name": "stderr",
     "output_type": "stream",
     "text": [
      "2023-03-28 17:26:40.552614: I tensorflow/core/grappler/optimizers/custom_graph_optimizer_registry.cc:113] Plugin optimizer for device_type GPU is enabled.\n"
     ]
    },
    {
     "ename": "InvalidArgumentError",
     "evalue": "Graph execution error:\n\nDetected at node 'categorical_crossentropy/softmax_cross_entropy_with_logits' defined at (most recent call last):\n    File \"/opt/homebrew/Caskroom/miniforge/base/envs/middle-earth/lib/python3.8/runpy.py\", line 194, in _run_module_as_main\n      return _run_code(code, main_globals, None,\n    File \"/opt/homebrew/Caskroom/miniforge/base/envs/middle-earth/lib/python3.8/runpy.py\", line 87, in _run_code\n      exec(code, run_globals)\n    File \"/opt/homebrew/Caskroom/miniforge/base/envs/middle-earth/lib/python3.8/site-packages/ipykernel_launcher.py\", line 17, in <module>\n      app.launch_new_instance()\n    File \"/opt/homebrew/Caskroom/miniforge/base/envs/middle-earth/lib/python3.8/site-packages/traitlets/config/application.py\", line 1043, in launch_instance\n      app.start()\n    File \"/opt/homebrew/Caskroom/miniforge/base/envs/middle-earth/lib/python3.8/site-packages/ipykernel/kernelapp.py\", line 725, in start\n      self.io_loop.start()\n    File \"/opt/homebrew/Caskroom/miniforge/base/envs/middle-earth/lib/python3.8/site-packages/tornado/platform/asyncio.py\", line 215, in start\n      self.asyncio_loop.run_forever()\n    File \"/opt/homebrew/Caskroom/miniforge/base/envs/middle-earth/lib/python3.8/asyncio/base_events.py\", line 570, in run_forever\n      self._run_once()\n    File \"/opt/homebrew/Caskroom/miniforge/base/envs/middle-earth/lib/python3.8/asyncio/base_events.py\", line 1859, in _run_once\n      handle._run()\n    File \"/opt/homebrew/Caskroom/miniforge/base/envs/middle-earth/lib/python3.8/asyncio/events.py\", line 81, in _run\n      self._context.run(self._callback, *self._args)\n    File \"/opt/homebrew/Caskroom/miniforge/base/envs/middle-earth/lib/python3.8/site-packages/ipykernel/kernelbase.py\", line 513, in dispatch_queue\n      await self.process_one()\n    File \"/opt/homebrew/Caskroom/miniforge/base/envs/middle-earth/lib/python3.8/site-packages/ipykernel/kernelbase.py\", line 502, in process_one\n      await dispatch(*args)\n    File \"/opt/homebrew/Caskroom/miniforge/base/envs/middle-earth/lib/python3.8/site-packages/ipykernel/kernelbase.py\", line 409, in dispatch_shell\n      await result\n    File \"/opt/homebrew/Caskroom/miniforge/base/envs/middle-earth/lib/python3.8/site-packages/ipykernel/kernelbase.py\", line 729, in execute_request\n      reply_content = await reply_content\n    File \"/opt/homebrew/Caskroom/miniforge/base/envs/middle-earth/lib/python3.8/site-packages/ipykernel/ipkernel.py\", line 422, in do_execute\n      res = shell.run_cell(\n    File \"/opt/homebrew/Caskroom/miniforge/base/envs/middle-earth/lib/python3.8/site-packages/ipykernel/zmqshell.py\", line 540, in run_cell\n      return super().run_cell(*args, **kwargs)\n    File \"/opt/homebrew/Caskroom/miniforge/base/envs/middle-earth/lib/python3.8/site-packages/IPython/core/interactiveshell.py\", line 2961, in run_cell\n      result = self._run_cell(\n    File \"/opt/homebrew/Caskroom/miniforge/base/envs/middle-earth/lib/python3.8/site-packages/IPython/core/interactiveshell.py\", line 3016, in _run_cell\n      result = runner(coro)\n    File \"/opt/homebrew/Caskroom/miniforge/base/envs/middle-earth/lib/python3.8/site-packages/IPython/core/async_helpers.py\", line 129, in _pseudo_sync_runner\n      coro.send(None)\n    File \"/opt/homebrew/Caskroom/miniforge/base/envs/middle-earth/lib/python3.8/site-packages/IPython/core/interactiveshell.py\", line 3221, in run_cell_async\n      has_raised = await self.run_ast_nodes(code_ast.body, cell_name,\n    File \"/opt/homebrew/Caskroom/miniforge/base/envs/middle-earth/lib/python3.8/site-packages/IPython/core/interactiveshell.py\", line 3400, in run_ast_nodes\n      if await self.run_code(code, result, async_=asy):\n    File \"/opt/homebrew/Caskroom/miniforge/base/envs/middle-earth/lib/python3.8/site-packages/IPython/core/interactiveshell.py\", line 3460, in run_code\n      exec(code_obj, self.user_global_ns, self.user_ns)\n    File \"/var/folders/x7/5j65n6x57hq9g5yst5z9k1m00000gn/T/ipykernel_5149/3938574811.py\", line 17, in <module>\n      base_model = model.fit(train_generator, verbose = 1, validation_data = test_generator, epochs=50)\n    File \"/opt/homebrew/Caskroom/miniforge/base/envs/middle-earth/lib/python3.8/site-packages/keras/utils/traceback_utils.py\", line 64, in error_handler\n      return fn(*args, **kwargs)\n    File \"/opt/homebrew/Caskroom/miniforge/base/envs/middle-earth/lib/python3.8/site-packages/keras/engine/training.py\", line 1409, in fit\n      tmp_logs = self.train_function(iterator)\n    File \"/opt/homebrew/Caskroom/miniforge/base/envs/middle-earth/lib/python3.8/site-packages/keras/engine/training.py\", line 1051, in train_function\n      return step_function(self, iterator)\n    File \"/opt/homebrew/Caskroom/miniforge/base/envs/middle-earth/lib/python3.8/site-packages/keras/engine/training.py\", line 1040, in step_function\n      outputs = model.distribute_strategy.run(run_step, args=(data,))\n    File \"/opt/homebrew/Caskroom/miniforge/base/envs/middle-earth/lib/python3.8/site-packages/keras/engine/training.py\", line 1030, in run_step\n      outputs = model.train_step(data)\n    File \"/opt/homebrew/Caskroom/miniforge/base/envs/middle-earth/lib/python3.8/site-packages/keras/engine/training.py\", line 890, in train_step\n      loss = self.compute_loss(x, y, y_pred, sample_weight)\n    File \"/opt/homebrew/Caskroom/miniforge/base/envs/middle-earth/lib/python3.8/site-packages/keras/engine/training.py\", line 948, in compute_loss\n      return self.compiled_loss(\n    File \"/opt/homebrew/Caskroom/miniforge/base/envs/middle-earth/lib/python3.8/site-packages/keras/engine/compile_utils.py\", line 201, in __call__\n      loss_value = loss_obj(y_t, y_p, sample_weight=sw)\n    File \"/opt/homebrew/Caskroom/miniforge/base/envs/middle-earth/lib/python3.8/site-packages/keras/losses.py\", line 139, in __call__\n      losses = call_fn(y_true, y_pred)\n    File \"/opt/homebrew/Caskroom/miniforge/base/envs/middle-earth/lib/python3.8/site-packages/keras/losses.py\", line 243, in call\n      return ag_fn(y_true, y_pred, **self._fn_kwargs)\n    File \"/opt/homebrew/Caskroom/miniforge/base/envs/middle-earth/lib/python3.8/site-packages/keras/losses.py\", line 1787, in categorical_crossentropy\n      return backend.categorical_crossentropy(\n    File \"/opt/homebrew/Caskroom/miniforge/base/envs/middle-earth/lib/python3.8/site-packages/keras/backend.py\", line 5134, in categorical_crossentropy\n      return tf.nn.softmax_cross_entropy_with_logits(\nNode: 'categorical_crossentropy/softmax_cross_entropy_with_logits'\nDetected at node 'categorical_crossentropy/softmax_cross_entropy_with_logits' defined at (most recent call last):\n    File \"/opt/homebrew/Caskroom/miniforge/base/envs/middle-earth/lib/python3.8/runpy.py\", line 194, in _run_module_as_main\n      return _run_code(code, main_globals, None,\n    File \"/opt/homebrew/Caskroom/miniforge/base/envs/middle-earth/lib/python3.8/runpy.py\", line 87, in _run_code\n      exec(code, run_globals)\n    File \"/opt/homebrew/Caskroom/miniforge/base/envs/middle-earth/lib/python3.8/site-packages/ipykernel_launcher.py\", line 17, in <module>\n      app.launch_new_instance()\n    File \"/opt/homebrew/Caskroom/miniforge/base/envs/middle-earth/lib/python3.8/site-packages/traitlets/config/application.py\", line 1043, in launch_instance\n      app.start()\n    File \"/opt/homebrew/Caskroom/miniforge/base/envs/middle-earth/lib/python3.8/site-packages/ipykernel/kernelapp.py\", line 725, in start\n      self.io_loop.start()\n    File \"/opt/homebrew/Caskroom/miniforge/base/envs/middle-earth/lib/python3.8/site-packages/tornado/platform/asyncio.py\", line 215, in start\n      self.asyncio_loop.run_forever()\n    File \"/opt/homebrew/Caskroom/miniforge/base/envs/middle-earth/lib/python3.8/asyncio/base_events.py\", line 570, in run_forever\n      self._run_once()\n    File \"/opt/homebrew/Caskroom/miniforge/base/envs/middle-earth/lib/python3.8/asyncio/base_events.py\", line 1859, in _run_once\n      handle._run()\n    File \"/opt/homebrew/Caskroom/miniforge/base/envs/middle-earth/lib/python3.8/asyncio/events.py\", line 81, in _run\n      self._context.run(self._callback, *self._args)\n    File \"/opt/homebrew/Caskroom/miniforge/base/envs/middle-earth/lib/python3.8/site-packages/ipykernel/kernelbase.py\", line 513, in dispatch_queue\n      await self.process_one()\n    File \"/opt/homebrew/Caskroom/miniforge/base/envs/middle-earth/lib/python3.8/site-packages/ipykernel/kernelbase.py\", line 502, in process_one\n      await dispatch(*args)\n    File \"/opt/homebrew/Caskroom/miniforge/base/envs/middle-earth/lib/python3.8/site-packages/ipykernel/kernelbase.py\", line 409, in dispatch_shell\n      await result\n    File \"/opt/homebrew/Caskroom/miniforge/base/envs/middle-earth/lib/python3.8/site-packages/ipykernel/kernelbase.py\", line 729, in execute_request\n      reply_content = await reply_content\n    File \"/opt/homebrew/Caskroom/miniforge/base/envs/middle-earth/lib/python3.8/site-packages/ipykernel/ipkernel.py\", line 422, in do_execute\n      res = shell.run_cell(\n    File \"/opt/homebrew/Caskroom/miniforge/base/envs/middle-earth/lib/python3.8/site-packages/ipykernel/zmqshell.py\", line 540, in run_cell\n      return super().run_cell(*args, **kwargs)\n    File \"/opt/homebrew/Caskroom/miniforge/base/envs/middle-earth/lib/python3.8/site-packages/IPython/core/interactiveshell.py\", line 2961, in run_cell\n      result = self._run_cell(\n    File \"/opt/homebrew/Caskroom/miniforge/base/envs/middle-earth/lib/python3.8/site-packages/IPython/core/interactiveshell.py\", line 3016, in _run_cell\n      result = runner(coro)\n    File \"/opt/homebrew/Caskroom/miniforge/base/envs/middle-earth/lib/python3.8/site-packages/IPython/core/async_helpers.py\", line 129, in _pseudo_sync_runner\n      coro.send(None)\n    File \"/opt/homebrew/Caskroom/miniforge/base/envs/middle-earth/lib/python3.8/site-packages/IPython/core/interactiveshell.py\", line 3221, in run_cell_async\n      has_raised = await self.run_ast_nodes(code_ast.body, cell_name,\n    File \"/opt/homebrew/Caskroom/miniforge/base/envs/middle-earth/lib/python3.8/site-packages/IPython/core/interactiveshell.py\", line 3400, in run_ast_nodes\n      if await self.run_code(code, result, async_=asy):\n    File \"/opt/homebrew/Caskroom/miniforge/base/envs/middle-earth/lib/python3.8/site-packages/IPython/core/interactiveshell.py\", line 3460, in run_code\n      exec(code_obj, self.user_global_ns, self.user_ns)\n    File \"/var/folders/x7/5j65n6x57hq9g5yst5z9k1m00000gn/T/ipykernel_5149/3938574811.py\", line 17, in <module>\n      base_model = model.fit(train_generator, verbose = 1, validation_data = test_generator, epochs=50)\n    File \"/opt/homebrew/Caskroom/miniforge/base/envs/middle-earth/lib/python3.8/site-packages/keras/utils/traceback_utils.py\", line 64, in error_handler\n      return fn(*args, **kwargs)\n    File \"/opt/homebrew/Caskroom/miniforge/base/envs/middle-earth/lib/python3.8/site-packages/keras/engine/training.py\", line 1409, in fit\n      tmp_logs = self.train_function(iterator)\n    File \"/opt/homebrew/Caskroom/miniforge/base/envs/middle-earth/lib/python3.8/site-packages/keras/engine/training.py\", line 1051, in train_function\n      return step_function(self, iterator)\n    File \"/opt/homebrew/Caskroom/miniforge/base/envs/middle-earth/lib/python3.8/site-packages/keras/engine/training.py\", line 1040, in step_function\n      outputs = model.distribute_strategy.run(run_step, args=(data,))\n    File \"/opt/homebrew/Caskroom/miniforge/base/envs/middle-earth/lib/python3.8/site-packages/keras/engine/training.py\", line 1030, in run_step\n      outputs = model.train_step(data)\n    File \"/opt/homebrew/Caskroom/miniforge/base/envs/middle-earth/lib/python3.8/site-packages/keras/engine/training.py\", line 890, in train_step\n      loss = self.compute_loss(x, y, y_pred, sample_weight)\n    File \"/opt/homebrew/Caskroom/miniforge/base/envs/middle-earth/lib/python3.8/site-packages/keras/engine/training.py\", line 948, in compute_loss\n      return self.compiled_loss(\n    File \"/opt/homebrew/Caskroom/miniforge/base/envs/middle-earth/lib/python3.8/site-packages/keras/engine/compile_utils.py\", line 201, in __call__\n      loss_value = loss_obj(y_t, y_p, sample_weight=sw)\n    File \"/opt/homebrew/Caskroom/miniforge/base/envs/middle-earth/lib/python3.8/site-packages/keras/losses.py\", line 139, in __call__\n      losses = call_fn(y_true, y_pred)\n    File \"/opt/homebrew/Caskroom/miniforge/base/envs/middle-earth/lib/python3.8/site-packages/keras/losses.py\", line 243, in call\n      return ag_fn(y_true, y_pred, **self._fn_kwargs)\n    File \"/opt/homebrew/Caskroom/miniforge/base/envs/middle-earth/lib/python3.8/site-packages/keras/losses.py\", line 1787, in categorical_crossentropy\n      return backend.categorical_crossentropy(\n    File \"/opt/homebrew/Caskroom/miniforge/base/envs/middle-earth/lib/python3.8/site-packages/keras/backend.py\", line 5134, in categorical_crossentropy\n      return tf.nn.softmax_cross_entropy_with_logits(\nNode: 'categorical_crossentropy/softmax_cross_entropy_with_logits'\n2 root error(s) found.\n  (0) INVALID_ARGUMENT:  logits and labels must be broadcastable: logits_size=[32,150] labels_size=[32,149]\n\t [[{{node categorical_crossentropy/softmax_cross_entropy_with_logits}}]]\n\t [[sequential_2/dense_2/Softmax/_20]]\n  (1) INVALID_ARGUMENT:  logits and labels must be broadcastable: logits_size=[32,150] labels_size=[32,149]\n\t [[{{node categorical_crossentropy/softmax_cross_entropy_with_logits}}]]\n0 successful operations.\n0 derived errors ignored. [Op:__inference_train_function_3170]",
     "output_type": "error",
     "traceback": [
      "\u001b[0;31m---------------------------------------------------------------------------\u001b[0m",
      "\u001b[0;31mInvalidArgumentError\u001b[0m                      Traceback (most recent call last)",
      "Cell \u001b[0;32mIn[5], line 17\u001b[0m\n\u001b[1;32m     14\u001b[0m model\u001b[38;5;241m.\u001b[39mcompile(optimizer\u001b[38;5;241m=\u001b[39mopt, loss\u001b[38;5;241m=\u001b[39mcce,  metrics\u001b[38;5;241m=\u001b[39m[\u001b[38;5;124m'\u001b[39m\u001b[38;5;124maccuracy\u001b[39m\u001b[38;5;124m'\u001b[39m])\n\u001b[1;32m     16\u001b[0m \u001b[38;5;66;03m# fit model\u001b[39;00m\n\u001b[0;32m---> 17\u001b[0m base_model \u001b[38;5;241m=\u001b[39m \u001b[43mmodel\u001b[49m\u001b[38;5;241;43m.\u001b[39;49m\u001b[43mfit\u001b[49m\u001b[43m(\u001b[49m\u001b[43mtrain_generator\u001b[49m\u001b[43m,\u001b[49m\u001b[43m \u001b[49m\u001b[43mverbose\u001b[49m\u001b[43m \u001b[49m\u001b[38;5;241;43m=\u001b[39;49m\u001b[43m \u001b[49m\u001b[38;5;241;43m1\u001b[39;49m\u001b[43m,\u001b[49m\u001b[43m \u001b[49m\u001b[43mvalidation_data\u001b[49m\u001b[43m \u001b[49m\u001b[38;5;241;43m=\u001b[39;49m\u001b[43m \u001b[49m\u001b[43mtest_generator\u001b[49m\u001b[43m,\u001b[49m\u001b[43m \u001b[49m\u001b[43mepochs\u001b[49m\u001b[38;5;241;43m=\u001b[39;49m\u001b[38;5;241;43m50\u001b[39;49m\u001b[43m)\u001b[49m\n",
      "File \u001b[0;32m/opt/homebrew/Caskroom/miniforge/base/envs/middle-earth/lib/python3.8/site-packages/keras/utils/traceback_utils.py:67\u001b[0m, in \u001b[0;36mfilter_traceback.<locals>.error_handler\u001b[0;34m(*args, **kwargs)\u001b[0m\n\u001b[1;32m     65\u001b[0m \u001b[38;5;28;01mexcept\u001b[39;00m \u001b[38;5;167;01mException\u001b[39;00m \u001b[38;5;28;01mas\u001b[39;00m e:  \u001b[38;5;66;03m# pylint: disable=broad-except\u001b[39;00m\n\u001b[1;32m     66\u001b[0m   filtered_tb \u001b[38;5;241m=\u001b[39m _process_traceback_frames(e\u001b[38;5;241m.\u001b[39m__traceback__)\n\u001b[0;32m---> 67\u001b[0m   \u001b[38;5;28;01mraise\u001b[39;00m e\u001b[38;5;241m.\u001b[39mwith_traceback(filtered_tb) \u001b[38;5;28;01mfrom\u001b[39;00m \u001b[38;5;28mNone\u001b[39m\n\u001b[1;32m     68\u001b[0m \u001b[38;5;28;01mfinally\u001b[39;00m:\n\u001b[1;32m     69\u001b[0m   \u001b[38;5;28;01mdel\u001b[39;00m filtered_tb\n",
      "File \u001b[0;32m/opt/homebrew/Caskroom/miniforge/base/envs/middle-earth/lib/python3.8/site-packages/tensorflow/python/eager/execute.py:54\u001b[0m, in \u001b[0;36mquick_execute\u001b[0;34m(op_name, num_outputs, inputs, attrs, ctx, name)\u001b[0m\n\u001b[1;32m     52\u001b[0m \u001b[38;5;28;01mtry\u001b[39;00m:\n\u001b[1;32m     53\u001b[0m   ctx\u001b[38;5;241m.\u001b[39mensure_initialized()\n\u001b[0;32m---> 54\u001b[0m   tensors \u001b[38;5;241m=\u001b[39m pywrap_tfe\u001b[38;5;241m.\u001b[39mTFE_Py_Execute(ctx\u001b[38;5;241m.\u001b[39m_handle, device_name, op_name,\n\u001b[1;32m     55\u001b[0m                                       inputs, attrs, num_outputs)\n\u001b[1;32m     56\u001b[0m \u001b[38;5;28;01mexcept\u001b[39;00m core\u001b[38;5;241m.\u001b[39m_NotOkStatusException \u001b[38;5;28;01mas\u001b[39;00m e:\n\u001b[1;32m     57\u001b[0m   \u001b[38;5;28;01mif\u001b[39;00m name \u001b[38;5;129;01mis\u001b[39;00m \u001b[38;5;129;01mnot\u001b[39;00m \u001b[38;5;28;01mNone\u001b[39;00m:\n",
      "\u001b[0;31mInvalidArgumentError\u001b[0m: Graph execution error:\n\nDetected at node 'categorical_crossentropy/softmax_cross_entropy_with_logits' defined at (most recent call last):\n    File \"/opt/homebrew/Caskroom/miniforge/base/envs/middle-earth/lib/python3.8/runpy.py\", line 194, in _run_module_as_main\n      return _run_code(code, main_globals, None,\n    File \"/opt/homebrew/Caskroom/miniforge/base/envs/middle-earth/lib/python3.8/runpy.py\", line 87, in _run_code\n      exec(code, run_globals)\n    File \"/opt/homebrew/Caskroom/miniforge/base/envs/middle-earth/lib/python3.8/site-packages/ipykernel_launcher.py\", line 17, in <module>\n      app.launch_new_instance()\n    File \"/opt/homebrew/Caskroom/miniforge/base/envs/middle-earth/lib/python3.8/site-packages/traitlets/config/application.py\", line 1043, in launch_instance\n      app.start()\n    File \"/opt/homebrew/Caskroom/miniforge/base/envs/middle-earth/lib/python3.8/site-packages/ipykernel/kernelapp.py\", line 725, in start\n      self.io_loop.start()\n    File \"/opt/homebrew/Caskroom/miniforge/base/envs/middle-earth/lib/python3.8/site-packages/tornado/platform/asyncio.py\", line 215, in start\n      self.asyncio_loop.run_forever()\n    File \"/opt/homebrew/Caskroom/miniforge/base/envs/middle-earth/lib/python3.8/asyncio/base_events.py\", line 570, in run_forever\n      self._run_once()\n    File \"/opt/homebrew/Caskroom/miniforge/base/envs/middle-earth/lib/python3.8/asyncio/base_events.py\", line 1859, in _run_once\n      handle._run()\n    File \"/opt/homebrew/Caskroom/miniforge/base/envs/middle-earth/lib/python3.8/asyncio/events.py\", line 81, in _run\n      self._context.run(self._callback, *self._args)\n    File \"/opt/homebrew/Caskroom/miniforge/base/envs/middle-earth/lib/python3.8/site-packages/ipykernel/kernelbase.py\", line 513, in dispatch_queue\n      await self.process_one()\n    File \"/opt/homebrew/Caskroom/miniforge/base/envs/middle-earth/lib/python3.8/site-packages/ipykernel/kernelbase.py\", line 502, in process_one\n      await dispatch(*args)\n    File \"/opt/homebrew/Caskroom/miniforge/base/envs/middle-earth/lib/python3.8/site-packages/ipykernel/kernelbase.py\", line 409, in dispatch_shell\n      await result\n    File \"/opt/homebrew/Caskroom/miniforge/base/envs/middle-earth/lib/python3.8/site-packages/ipykernel/kernelbase.py\", line 729, in execute_request\n      reply_content = await reply_content\n    File \"/opt/homebrew/Caskroom/miniforge/base/envs/middle-earth/lib/python3.8/site-packages/ipykernel/ipkernel.py\", line 422, in do_execute\n      res = shell.run_cell(\n    File \"/opt/homebrew/Caskroom/miniforge/base/envs/middle-earth/lib/python3.8/site-packages/ipykernel/zmqshell.py\", line 540, in run_cell\n      return super().run_cell(*args, **kwargs)\n    File \"/opt/homebrew/Caskroom/miniforge/base/envs/middle-earth/lib/python3.8/site-packages/IPython/core/interactiveshell.py\", line 2961, in run_cell\n      result = self._run_cell(\n    File \"/opt/homebrew/Caskroom/miniforge/base/envs/middle-earth/lib/python3.8/site-packages/IPython/core/interactiveshell.py\", line 3016, in _run_cell\n      result = runner(coro)\n    File \"/opt/homebrew/Caskroom/miniforge/base/envs/middle-earth/lib/python3.8/site-packages/IPython/core/async_helpers.py\", line 129, in _pseudo_sync_runner\n      coro.send(None)\n    File \"/opt/homebrew/Caskroom/miniforge/base/envs/middle-earth/lib/python3.8/site-packages/IPython/core/interactiveshell.py\", line 3221, in run_cell_async\n      has_raised = await self.run_ast_nodes(code_ast.body, cell_name,\n    File \"/opt/homebrew/Caskroom/miniforge/base/envs/middle-earth/lib/python3.8/site-packages/IPython/core/interactiveshell.py\", line 3400, in run_ast_nodes\n      if await self.run_code(code, result, async_=asy):\n    File \"/opt/homebrew/Caskroom/miniforge/base/envs/middle-earth/lib/python3.8/site-packages/IPython/core/interactiveshell.py\", line 3460, in run_code\n      exec(code_obj, self.user_global_ns, self.user_ns)\n    File \"/var/folders/x7/5j65n6x57hq9g5yst5z9k1m00000gn/T/ipykernel_5149/3938574811.py\", line 17, in <module>\n      base_model = model.fit(train_generator, verbose = 1, validation_data = test_generator, epochs=50)\n    File \"/opt/homebrew/Caskroom/miniforge/base/envs/middle-earth/lib/python3.8/site-packages/keras/utils/traceback_utils.py\", line 64, in error_handler\n      return fn(*args, **kwargs)\n    File \"/opt/homebrew/Caskroom/miniforge/base/envs/middle-earth/lib/python3.8/site-packages/keras/engine/training.py\", line 1409, in fit\n      tmp_logs = self.train_function(iterator)\n    File \"/opt/homebrew/Caskroom/miniforge/base/envs/middle-earth/lib/python3.8/site-packages/keras/engine/training.py\", line 1051, in train_function\n      return step_function(self, iterator)\n    File \"/opt/homebrew/Caskroom/miniforge/base/envs/middle-earth/lib/python3.8/site-packages/keras/engine/training.py\", line 1040, in step_function\n      outputs = model.distribute_strategy.run(run_step, args=(data,))\n    File \"/opt/homebrew/Caskroom/miniforge/base/envs/middle-earth/lib/python3.8/site-packages/keras/engine/training.py\", line 1030, in run_step\n      outputs = model.train_step(data)\n    File \"/opt/homebrew/Caskroom/miniforge/base/envs/middle-earth/lib/python3.8/site-packages/keras/engine/training.py\", line 890, in train_step\n      loss = self.compute_loss(x, y, y_pred, sample_weight)\n    File \"/opt/homebrew/Caskroom/miniforge/base/envs/middle-earth/lib/python3.8/site-packages/keras/engine/training.py\", line 948, in compute_loss\n      return self.compiled_loss(\n    File \"/opt/homebrew/Caskroom/miniforge/base/envs/middle-earth/lib/python3.8/site-packages/keras/engine/compile_utils.py\", line 201, in __call__\n      loss_value = loss_obj(y_t, y_p, sample_weight=sw)\n    File \"/opt/homebrew/Caskroom/miniforge/base/envs/middle-earth/lib/python3.8/site-packages/keras/losses.py\", line 139, in __call__\n      losses = call_fn(y_true, y_pred)\n    File \"/opt/homebrew/Caskroom/miniforge/base/envs/middle-earth/lib/python3.8/site-packages/keras/losses.py\", line 243, in call\n      return ag_fn(y_true, y_pred, **self._fn_kwargs)\n    File \"/opt/homebrew/Caskroom/miniforge/base/envs/middle-earth/lib/python3.8/site-packages/keras/losses.py\", line 1787, in categorical_crossentropy\n      return backend.categorical_crossentropy(\n    File \"/opt/homebrew/Caskroom/miniforge/base/envs/middle-earth/lib/python3.8/site-packages/keras/backend.py\", line 5134, in categorical_crossentropy\n      return tf.nn.softmax_cross_entropy_with_logits(\nNode: 'categorical_crossentropy/softmax_cross_entropy_with_logits'\nDetected at node 'categorical_crossentropy/softmax_cross_entropy_with_logits' defined at (most recent call last):\n    File \"/opt/homebrew/Caskroom/miniforge/base/envs/middle-earth/lib/python3.8/runpy.py\", line 194, in _run_module_as_main\n      return _run_code(code, main_globals, None,\n    File \"/opt/homebrew/Caskroom/miniforge/base/envs/middle-earth/lib/python3.8/runpy.py\", line 87, in _run_code\n      exec(code, run_globals)\n    File \"/opt/homebrew/Caskroom/miniforge/base/envs/middle-earth/lib/python3.8/site-packages/ipykernel_launcher.py\", line 17, in <module>\n      app.launch_new_instance()\n    File \"/opt/homebrew/Caskroom/miniforge/base/envs/middle-earth/lib/python3.8/site-packages/traitlets/config/application.py\", line 1043, in launch_instance\n      app.start()\n    File \"/opt/homebrew/Caskroom/miniforge/base/envs/middle-earth/lib/python3.8/site-packages/ipykernel/kernelapp.py\", line 725, in start\n      self.io_loop.start()\n    File \"/opt/homebrew/Caskroom/miniforge/base/envs/middle-earth/lib/python3.8/site-packages/tornado/platform/asyncio.py\", line 215, in start\n      self.asyncio_loop.run_forever()\n    File \"/opt/homebrew/Caskroom/miniforge/base/envs/middle-earth/lib/python3.8/asyncio/base_events.py\", line 570, in run_forever\n      self._run_once()\n    File \"/opt/homebrew/Caskroom/miniforge/base/envs/middle-earth/lib/python3.8/asyncio/base_events.py\", line 1859, in _run_once\n      handle._run()\n    File \"/opt/homebrew/Caskroom/miniforge/base/envs/middle-earth/lib/python3.8/asyncio/events.py\", line 81, in _run\n      self._context.run(self._callback, *self._args)\n    File \"/opt/homebrew/Caskroom/miniforge/base/envs/middle-earth/lib/python3.8/site-packages/ipykernel/kernelbase.py\", line 513, in dispatch_queue\n      await self.process_one()\n    File \"/opt/homebrew/Caskroom/miniforge/base/envs/middle-earth/lib/python3.8/site-packages/ipykernel/kernelbase.py\", line 502, in process_one\n      await dispatch(*args)\n    File \"/opt/homebrew/Caskroom/miniforge/base/envs/middle-earth/lib/python3.8/site-packages/ipykernel/kernelbase.py\", line 409, in dispatch_shell\n      await result\n    File \"/opt/homebrew/Caskroom/miniforge/base/envs/middle-earth/lib/python3.8/site-packages/ipykernel/kernelbase.py\", line 729, in execute_request\n      reply_content = await reply_content\n    File \"/opt/homebrew/Caskroom/miniforge/base/envs/middle-earth/lib/python3.8/site-packages/ipykernel/ipkernel.py\", line 422, in do_execute\n      res = shell.run_cell(\n    File \"/opt/homebrew/Caskroom/miniforge/base/envs/middle-earth/lib/python3.8/site-packages/ipykernel/zmqshell.py\", line 540, in run_cell\n      return super().run_cell(*args, **kwargs)\n    File \"/opt/homebrew/Caskroom/miniforge/base/envs/middle-earth/lib/python3.8/site-packages/IPython/core/interactiveshell.py\", line 2961, in run_cell\n      result = self._run_cell(\n    File \"/opt/homebrew/Caskroom/miniforge/base/envs/middle-earth/lib/python3.8/site-packages/IPython/core/interactiveshell.py\", line 3016, in _run_cell\n      result = runner(coro)\n    File \"/opt/homebrew/Caskroom/miniforge/base/envs/middle-earth/lib/python3.8/site-packages/IPython/core/async_helpers.py\", line 129, in _pseudo_sync_runner\n      coro.send(None)\n    File \"/opt/homebrew/Caskroom/miniforge/base/envs/middle-earth/lib/python3.8/site-packages/IPython/core/interactiveshell.py\", line 3221, in run_cell_async\n      has_raised = await self.run_ast_nodes(code_ast.body, cell_name,\n    File \"/opt/homebrew/Caskroom/miniforge/base/envs/middle-earth/lib/python3.8/site-packages/IPython/core/interactiveshell.py\", line 3400, in run_ast_nodes\n      if await self.run_code(code, result, async_=asy):\n    File \"/opt/homebrew/Caskroom/miniforge/base/envs/middle-earth/lib/python3.8/site-packages/IPython/core/interactiveshell.py\", line 3460, in run_code\n      exec(code_obj, self.user_global_ns, self.user_ns)\n    File \"/var/folders/x7/5j65n6x57hq9g5yst5z9k1m00000gn/T/ipykernel_5149/3938574811.py\", line 17, in <module>\n      base_model = model.fit(train_generator, verbose = 1, validation_data = test_generator, epochs=50)\n    File \"/opt/homebrew/Caskroom/miniforge/base/envs/middle-earth/lib/python3.8/site-packages/keras/utils/traceback_utils.py\", line 64, in error_handler\n      return fn(*args, **kwargs)\n    File \"/opt/homebrew/Caskroom/miniforge/base/envs/middle-earth/lib/python3.8/site-packages/keras/engine/training.py\", line 1409, in fit\n      tmp_logs = self.train_function(iterator)\n    File \"/opt/homebrew/Caskroom/miniforge/base/envs/middle-earth/lib/python3.8/site-packages/keras/engine/training.py\", line 1051, in train_function\n      return step_function(self, iterator)\n    File \"/opt/homebrew/Caskroom/miniforge/base/envs/middle-earth/lib/python3.8/site-packages/keras/engine/training.py\", line 1040, in step_function\n      outputs = model.distribute_strategy.run(run_step, args=(data,))\n    File \"/opt/homebrew/Caskroom/miniforge/base/envs/middle-earth/lib/python3.8/site-packages/keras/engine/training.py\", line 1030, in run_step\n      outputs = model.train_step(data)\n    File \"/opt/homebrew/Caskroom/miniforge/base/envs/middle-earth/lib/python3.8/site-packages/keras/engine/training.py\", line 890, in train_step\n      loss = self.compute_loss(x, y, y_pred, sample_weight)\n    File \"/opt/homebrew/Caskroom/miniforge/base/envs/middle-earth/lib/python3.8/site-packages/keras/engine/training.py\", line 948, in compute_loss\n      return self.compiled_loss(\n    File \"/opt/homebrew/Caskroom/miniforge/base/envs/middle-earth/lib/python3.8/site-packages/keras/engine/compile_utils.py\", line 201, in __call__\n      loss_value = loss_obj(y_t, y_p, sample_weight=sw)\n    File \"/opt/homebrew/Caskroom/miniforge/base/envs/middle-earth/lib/python3.8/site-packages/keras/losses.py\", line 139, in __call__\n      losses = call_fn(y_true, y_pred)\n    File \"/opt/homebrew/Caskroom/miniforge/base/envs/middle-earth/lib/python3.8/site-packages/keras/losses.py\", line 243, in call\n      return ag_fn(y_true, y_pred, **self._fn_kwargs)\n    File \"/opt/homebrew/Caskroom/miniforge/base/envs/middle-earth/lib/python3.8/site-packages/keras/losses.py\", line 1787, in categorical_crossentropy\n      return backend.categorical_crossentropy(\n    File \"/opt/homebrew/Caskroom/miniforge/base/envs/middle-earth/lib/python3.8/site-packages/keras/backend.py\", line 5134, in categorical_crossentropy\n      return tf.nn.softmax_cross_entropy_with_logits(\nNode: 'categorical_crossentropy/softmax_cross_entropy_with_logits'\n2 root error(s) found.\n  (0) INVALID_ARGUMENT:  logits and labels must be broadcastable: logits_size=[32,150] labels_size=[32,149]\n\t [[{{node categorical_crossentropy/softmax_cross_entropy_with_logits}}]]\n\t [[sequential_2/dense_2/Softmax/_20]]\n  (1) INVALID_ARGUMENT:  logits and labels must be broadcastable: logits_size=[32,150] labels_size=[32,149]\n\t [[{{node categorical_crossentropy/softmax_cross_entropy_with_logits}}]]\n0 successful operations.\n0 derived errors ignored. [Op:__inference_train_function_3170]"
     ]
    }
   ],
   "source": [
    "# define model\n",
    "reg = l2(3e-3)\n",
    "model = Sequential()\n",
    "model.add(Conv2D(filters=32, kernel_size=(5, 5), activation='relu', input_shape=(64, 64, 3)))\n",
    "model.add(MaxPooling2D(pool_size=(2, 2)))\n",
    "model.add(Conv2D(64, (3, 3), activation='relu'))\n",
    "model.add(MaxPooling2D(pool_size=(2, 2)))\n",
    "model.add(Flatten())\n",
    "model.add(Dense(150, activation='softmax', kernel_regularizer = reg))\n",
    "\n",
    "# compile model\n",
    "cce = tf.keras.losses.CategoricalCrossentropy()\n",
    "opt = keras.optimizers.Adam()\n",
    "model.compile(optimizer=opt, loss=cce,  metrics=['accuracy'])\n",
    "\n",
    "# fit model\n",
    "base_model = model.fit(train_generator, verbose = 1, validation_data = test_generator, epochs=50)"
   ]
  },
  {
   "cell_type": "code",
   "execution_count": null,
   "id": "62d28f82",
   "metadata": {},
   "outputs": [],
   "source": []
  }
 ],
 "metadata": {
  "kernelspec": {
   "display_name": "middle-earth",
   "language": "python",
   "name": "middle-earth"
  },
  "language_info": {
   "codemirror_mode": {
    "name": "ipython",
    "version": 3
   },
   "file_extension": ".py",
   "mimetype": "text/x-python",
   "name": "python",
   "nbconvert_exporter": "python",
   "pygments_lexer": "ipython3",
   "version": "3.8.16"
  }
 },
 "nbformat": 4,
 "nbformat_minor": 5
}
